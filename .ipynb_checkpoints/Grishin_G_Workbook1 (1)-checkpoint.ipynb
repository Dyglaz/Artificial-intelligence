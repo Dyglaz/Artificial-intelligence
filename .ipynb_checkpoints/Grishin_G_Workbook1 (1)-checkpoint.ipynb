{
 "cells": [
  {
   "cell_type": "markdown",
   "id": "efca97e6",
   "metadata": {
    "id": "efca97e6"
   },
   "source": [
    "# 1.2 Пример "
   ]
  },
  {
   "cell_type": "code",
   "execution_count": 8,
   "id": "61624765",
   "metadata": {
    "id": "61624765",
    "outputId": "cfbd48fc-48d1-4ff6-f927-bd67840d22db"
   },
   "outputs": [
    {
     "name": "stdout",
     "output_type": "stream",
     "text": [
      "39.4 | <class 'float'> \n",
      " None | <class 'NoneType'> \n",
      " ('a', 5, 12.345, (2, 'b')) | <class 'tuple'> \n",
      " [['Aнтонова Антонина', 34, 'ж'], ['Борисов Борис', 26, 'м']] | <class 'list'> \n",
      " {1, 2, 'content', 'title'} | <class 'set'>\n"
     ]
    }
   ],
   "source": [
    "x = 3+5.2*7\n",
    "y = None\n",
    "z = 'a', 5, 12.345, (2, 'b')\n",
    "df = [['Aнтонова Антонина', 34 , 'ж'], ['Борисов Борис', 26, 'м']]\n",
    "A = {1, 'title', 2, 'content'}\n",
    "print (x, '|', type(x), '\\n', y, '|', type(y), '\\n',\n",
    "      z, '|', type(z), '\\n', df, '|', type(df), '\\n', A, '|', type(A))"
   ]
  },
  {
   "cell_type": "markdown",
   "id": "2405c2ef",
   "metadata": {
    "id": "2405c2ef"
   },
   "source": [
    "# 1.3 Задание"
   ]
  },
  {
   "cell_type": "code",
   "execution_count": 9,
   "id": "36d8e781",
   "metadata": {
    "id": "36d8e781",
    "outputId": "7c12f690-a49a-4572-f125-924a43f1b260"
   },
   "outputs": [
    {
     "name": "stdout",
     "output_type": "stream",
     "text": [
      "True | <class 'bool'> \n",
      " {8, 1, 3, 7} | <class 'set'> \n",
      " {2, 4, 5, 'apple', 10} | <class 'set'> \n",
      " set() | <class 'set'> \n",
      " ('Антонова Антонина', 34, 'ж') | <class 'tuple'> \n",
      " type | <class 'str'> \n",
      " [1, 'title', 2, 'content'] | <class 'list'> \n",
      "\n"
     ]
    }
   ],
   "source": [
    "x = 5 >= 2\n",
    "A = {1, 3, 7, 8}\n",
    "B = {2, 4, 5, 10, 'apple'}\n",
    "C = A & B\n",
    "df = 'Антонова Антонина', 34, 'ж'\n",
    "z = 'type'\n",
    "D = [1, 'title', 2, 'content']\n",
    "\n",
    "print(x, '|', type(x), '\\n',\n",
    "      A, '|', type(A), '\\n',\n",
    "      B, '|', type(B), '\\n',\n",
    "      C, '|', type(C), '\\n',\n",
    "      df, '|', type(df), '\\n',\n",
    "      z, '|', type(z), '\\n',\n",
    "      D, '|', type(D), '\\n')"
   ]
  },
  {
   "cell_type": "markdown",
   "id": "17b9cfbf",
   "metadata": {
    "id": "17b9cfbf"
   },
   "source": [
    "# 2.2 Пример"
   ]
  },
  {
   "cell_type": "code",
   "execution_count": 10,
   "id": "0080aed8",
   "metadata": {
    "id": "0080aed8",
    "outputId": "d8d83032-7b46-4761-ee1e-74d39ae0effc"
   },
   "outputs": [
    {
     "name": "stdout",
     "output_type": "stream",
     "text": [
      "x положительный\n"
     ]
    }
   ],
   "source": [
    "x = 125\n",
    "if x<0:\n",
    "    print(\"x отрицательный\")\n",
    "elif x==0:\n",
    "    print(\"x равен нулю\")\n",
    "else:\n",
    "    print(\"x положительный\")"
   ]
  },
  {
   "cell_type": "markdown",
   "id": "fda6c68f",
   "metadata": {
    "id": "fda6c68f"
   },
   "source": [
    "# 2.3 Задание"
   ]
  },
  {
   "cell_type": "code",
   "execution_count": 11,
   "id": "3d328168",
   "metadata": {
    "id": "3d328168",
    "outputId": "a51e8fbc-116c-4233-ac7d-400a52afea9b"
   },
   "outputs": [
    {
     "name": "stdout",
     "output_type": "stream",
     "text": [
      "2\n",
      "x принадлежит [-5, 5]\n"
     ]
    }
   ],
   "source": [
    "x = float(input())\n",
    "if (x <-5):\n",
    "    print(\"x принадлежит (-infinity, -5)\")\n",
    "elif (x >= -5) and (x <= 5):\n",
    "    print(\"x принадлежит [-5, 5]\")\n",
    "else:\n",
    "    print(\"x принеадлежит (5, infinity)\")"
   ]
  },
  {
   "cell_type": "markdown",
   "id": "bc487375",
   "metadata": {
    "id": "bc487375"
   },
   "source": [
    "# 3.2.1 Пример"
   ]
  },
  {
   "cell_type": "code",
   "execution_count": 12,
   "id": "1064db3d",
   "metadata": {
    "id": "1064db3d",
    "outputId": "ab89a1ad-52bc-4d9e-bc3a-f4c178813cfa"
   },
   "outputs": [
    {
     "name": "stdout",
     "output_type": "stream",
     "text": [
      "1\n",
      "4\n",
      "7\n",
      "10\n"
     ]
    }
   ],
   "source": [
    "x = 1\n",
    "while x <= 10:\n",
    "    print(x)\n",
    "    x += 3"
   ]
  },
  {
   "cell_type": "markdown",
   "id": "BAaHzUgS5Bev",
   "metadata": {
    "id": "BAaHzUgS5Bev"
   },
   "source": [
    "# 3.2.2 Пример"
   ]
  },
  {
   "cell_type": "code",
   "execution_count": 13,
   "id": "Afoq27635RDw",
   "metadata": {
    "colab": {
     "base_uri": "https://localhost:8080/"
    },
    "id": "Afoq27635RDw",
    "outputId": "73e099bb-4a69-4572-b65a-bcd4c02588c3"
   },
   "outputs": [
    {
     "name": "stdout",
     "output_type": "stream",
     "text": [
      "KNN\n",
      "decision free\n",
      "linear model\n"
     ]
    }
   ],
   "source": [
    "models = ['KNN', 'decision free', 'linear model']\n",
    "for model in models:\n",
    "  print(model)"
   ]
  },
  {
   "cell_type": "markdown",
   "id": "plSqIAiP5mDz",
   "metadata": {
    "id": "plSqIAiP5mDz"
   },
   "source": [
    "# 3.2.3 Пример"
   ]
  },
  {
   "cell_type": "code",
   "execution_count": 14,
   "id": "9DBKHxOc6O3i",
   "metadata": {
    "colab": {
     "base_uri": "https://localhost:8080/"
    },
    "id": "9DBKHxOc6O3i",
    "outputId": "70537145-9b5a-473f-a04a-878aced2a501"
   },
   "outputs": [
    {
     "name": "stdout",
     "output_type": "stream",
     "text": [
      "[1, 8, 15, 22, 29, 36, 43, 50, 57, 64, 71, 78, 85, 92, 99]\n"
     ]
    }
   ],
   "source": [
    "list_int = range(1, 100, 7)\n",
    "print(list(list_int))"
   ]
  },
  {
   "cell_type": "markdown",
   "id": "5v_Rx6vx6XMK",
   "metadata": {
    "id": "5v_Rx6vx6XMK"
   },
   "source": [
    "# 3.2.4 Пример"
   ]
  },
  {
   "cell_type": "code",
   "execution_count": 15,
   "id": "hIG6JafD6b8y",
   "metadata": {
    "colab": {
     "base_uri": "https://localhost:8080/"
    },
    "id": "hIG6JafD6b8y",
    "outputId": "83fab822-bea2-4447-d387-7ea9863331ae"
   },
   "outputs": [
    {
     "name": "stdout",
     "output_type": "stream",
     "text": [
      "5\n",
      "30\n",
      "55\n",
      "80\n",
      "105\n"
     ]
    }
   ],
   "source": [
    "for i in range(5, 106, 25):\n",
    "  print(i)"
   ]
  },
  {
   "cell_type": "markdown",
   "id": "vWLCpL5h6oTU",
   "metadata": {
    "id": "vWLCpL5h6oTU"
   },
   "source": [
    "# 3.2.5 Пример"
   ]
  },
  {
   "cell_type": "code",
   "execution_count": 16,
   "id": "B8sNhzs_6qRM",
   "metadata": {
    "colab": {
     "base_uri": "https://localhost:8080/"
    },
    "id": "B8sNhzs_6qRM",
    "outputId": "c0209383-9d61-4fa1-f6ec-0f726585d1b8"
   },
   "outputs": [
    {
     "name": "stdout",
     "output_type": "stream",
     "text": [
      "[2, 4, 6]\n",
      "[9, 8, 7, 6, 5, 4, 3, 2, 1]\n"
     ]
    }
   ],
   "source": [
    "a = [1, 2, 3, 4, 5, 6, 7, 8, 9]\n",
    "b = a[1:7:2]\n",
    "c = a[::-1]\n",
    "print(b)\n",
    "print(c)"
   ]
  },
  {
   "cell_type": "markdown",
   "id": "20b51e44",
   "metadata": {
    "id": "20b51e44"
   },
   "source": [
    "# 3.3.1 Задание"
   ]
  },
  {
   "cell_type": "code",
   "execution_count": 17,
   "id": "48249749",
   "metadata": {
    "id": "48249749",
    "outputId": "607e2e1f-87ee-4041-e980-fa08db416900"
   },
   "outputs": [
    {
     "name": "stdout",
     "output_type": "stream",
     "text": [
      "10\n",
      "7\n",
      "4\n",
      "1\n"
     ]
    }
   ],
   "source": [
    "x = 10\n",
    "while x >= 1:\n",
    "    print(x)\n",
    "    x -= 3"
   ]
  },
  {
   "cell_type": "markdown",
   "id": "51a2491a",
   "metadata": {
    "id": "51a2491a"
   },
   "source": [
    "# 3.3.2 Задание"
   ]
  },
  {
   "cell_type": "code",
   "execution_count": 18,
   "id": "e494cac8",
   "metadata": {
    "id": "e494cac8",
    "outputId": "fc1ef605-b67b-4cf5-eee1-a53686206ba8"
   },
   "outputs": [
    {
     "data": {
      "text/plain": [
       "['имя', 'вес', 'ростпол', 'цвет_глаз']"
      ]
     },
     "execution_count": 18,
     "metadata": {},
     "output_type": "execute_result"
    }
   ],
   "source": [
    "human_traits = ['имя', 'вес', 'рост' 'пол', 'цвет_глаз']\n",
    "human_traits"
   ]
  },
  {
   "cell_type": "markdown",
   "id": "807abbbc",
   "metadata": {
    "id": "807abbbc"
   },
   "source": [
    "# 3.3.3 Задание"
   ]
  },
  {
   "cell_type": "code",
   "execution_count": 19,
   "id": "85d8b262",
   "metadata": {
    "id": "85d8b262",
    "outputId": "4f863148-b332-49e0-b3aa-f4cc2f18fca3"
   },
   "outputs": [
    {
     "data": {
      "text/plain": [
       "[2, 3, 4, 5, 6, 7, 8, 9, 10, 11, 12, 13, 14, 15]"
      ]
     },
     "execution_count": 19,
     "metadata": {},
     "output_type": "execute_result"
    }
   ],
   "source": [
    "lst = list(range(2, 16))\n",
    "lst"
   ]
  },
  {
   "cell_type": "markdown",
   "id": "354fc8ec",
   "metadata": {
    "id": "354fc8ec"
   },
   "source": [
    "# 3.3.4 Задание"
   ]
  },
  {
   "cell_type": "code",
   "execution_count": 20,
   "id": "b5c63ba6",
   "metadata": {
    "id": "b5c63ba6",
    "outputId": "1b8d9bdb-67d7-4ac0-dc34-303e7c7ab2e1"
   },
   "outputs": [
    {
     "name": "stdout",
     "output_type": "stream",
     "text": [
      "105\n",
      "80\n",
      "55\n",
      "30\n",
      "5\n"
     ]
    }
   ],
   "source": [
    "for i in range(105, 0, -25):\n",
    "    print(i)"
   ]
  },
  {
   "cell_type": "markdown",
   "id": "4aY8wZMd-rII",
   "metadata": {
    "id": "4aY8wZMd-rII"
   },
   "source": [
    "# 3.3.5 Задание"
   ]
  },
  {
   "cell_type": "code",
   "execution_count": 21,
   "id": "pLsUM519-tyF",
   "metadata": {
    "colab": {
     "base_uri": "https://localhost:8080/"
    },
    "id": "pLsUM519-tyF",
    "outputId": "3920f777-cad5-443a-d9bb-db46e9399b2b"
   },
   "outputs": [
    {
     "name": "stdout",
     "output_type": "stream",
     "text": [
      "[8, 1, 6, 3, 4, 5, 2, 7, 0, 9]\n"
     ]
    }
   ],
   "source": [
    "x = [0 , 1, 2, 3, 4, 5, 6, 7, 8, 9]\n",
    "x[0::2] = reversed(x[0::2])\n",
    "print(x)"
   ]
  },
  {
   "cell_type": "markdown",
   "id": "9ncVzgqWBI6B",
   "metadata": {
    "id": "9ncVzgqWBI6B"
   },
   "source": [
    "# 4.2.1 Пример"
   ]
  },
  {
   "cell_type": "code",
   "execution_count": 22,
   "id": "76b1f90e",
   "metadata": {
    "colab": {
     "base_uri": "https://localhost:8080/"
    },
    "id": "76b1f90e",
    "outputId": "ca6de1bd-58cc-4888-e0e2-1238a904007e"
   },
   "outputs": [
    {
     "name": "stdout",
     "output_type": "stream",
     "text": [
      "0.41078129050290885\n"
     ]
    }
   ],
   "source": [
    "import math as m\n",
    "print(m.sin(m.e))"
   ]
  },
  {
   "cell_type": "markdown",
   "id": "UPVMfrhEBya_",
   "metadata": {
    "id": "UPVMfrhEBya_"
   },
   "source": [
    "# 4.2.2 Пример"
   ]
  },
  {
   "cell_type": "code",
   "execution_count": 23,
   "id": "00dwRdczB17I",
   "metadata": {
    "colab": {
     "base_uri": "https://localhost:8080/",
     "height": 283
    },
    "id": "00dwRdczB17I",
    "outputId": "105c6b82-29fa-47a3-8c56-25a2f0a11bc7"
   },
   "outputs": [
    {
     "name": "stdout",
     "output_type": "stream",
     "text": [
      "73.50792907748662\n"
     ]
    },
    {
     "data": {
      "image/png": "[encoded data removed]",
      "text/plain": [
       "<Figure size 640x480 with 1 Axes>"
      ]
     },
     "metadata": {},
     "output_type": "display_data"
    }
   ],
   "source": [
    "import numpy as np\n",
    "import matplotlib.pyplot as plt\n",
    "from scipy.integrate import simps\n",
    "from numpy import trapz\n",
    "x = np.arange(0.0, 10, 0.1)\n",
    "y = np.abs(np.sin(x*np.exp(np.cos(x))))\n",
    "plt.grid()\n",
    "plt.plot(x, y, c = \"r\")\n",
    "plt.fill_between(x, y)\n",
    "\n",
    "area = trapz(y)\n",
    "print(area)"
   ]
  },
  {
   "cell_type": "markdown",
   "id": "lVeip0vqCr48",
   "metadata": {
    "id": "lVeip0vqCr48"
   },
   "source": [
    "# 4.2.3 Пример"
   ]
  },
  {
   "cell_type": "code",
   "execution_count": 24,
   "id": "-kXuan-JCzFk",
   "metadata": {
    "colab": {
     "base_uri": "https://localhost:8080/",
     "height": 677
    },
    "id": "-kXuan-JCzFk",
    "outputId": "4fc84400-d3fb-4b3c-8116-2253e9d8efca"
   },
   "outputs": [
    {
     "data": {
      "image/png": "[encoded data removed]",
      "text/plain": [
       "<Figure size 1000x700 with 1 Axes>"
      ]
     },
     "metadata": {},
     "output_type": "display_data"
    },
    {
     "data": {
      "text/plain": [
       "<matplotlib.collections.PathCollection at 0x25bdbd536d0>"
      ]
     },
     "execution_count": 24,
     "metadata": {},
     "output_type": "execute_result"
    },
    {
     "data": {
      "image/png": "[encoded data removed]",
      "text/plain": [
       "<Figure size 640x480 with 1 Axes>"
      ]
     },
     "metadata": {},
     "output_type": "display_data"
    }
   ],
   "source": [
    "from matplotlib import pyplot as plt\n",
    "import numpy as np\n",
    "\n",
    "marks = ['Неуд', 'Удовл', 'Хор', 'Отл']\n",
    "\n",
    "data = [3, 7, 8, 4]\n",
    "fig = plt.figure(figsize =(10, 7))\n",
    "plt.pie(data, labels = marks)\n",
    "plt.show()\n",
    "plt.grid()\n",
    "plt.scatter(marks, data)"
   ]
  },
  {
   "cell_type": "markdown",
   "id": "37eae7f3",
   "metadata": {
    "id": "lVeip0vqCr48"
   },
   "source": [
    "# 4.3.1 Задание"
   ]
  },
  {
   "cell_type": "code",
   "execution_count": 53,
   "id": "54228efe",
   "metadata": {
    "colab": {
     "base_uri": "https://localhost:8080/",
     "height": 677
    },
    "id": "-kXuan-JCzFk",
    "outputId": "4fc84400-d3fb-4b3c-8116-2253e9d8efca"
   },
   "outputs": [
    {
     "name": "stdout",
     "output_type": "stream",
     "text": [
      "Array: [0.61554778 0.97220687 0.4520662  0.68919003 0.47866206 0.23561921\n",
      " 0.9982014  0.49960283 0.40800205 0.22138708]\n",
      "Array average: 0.5570485502578858\n",
      "Array median: 0.48913244287959157\n"
     ]
    },
    {
     "data": {
      "text/plain": [
       "<matplotlib.collections.PathCollection at 0x25bde9742d0>"
      ]
     },
     "execution_count": 53,
     "metadata": {},
     "output_type": "execute_result"
    },
    {
     "data": {
      "image/png": "[encoded data removed]",
      "text/plain": [
       "<Figure size 640x480 with 1 Axes>"
      ]
     },
     "metadata": {},
     "output_type": "display_data"
    }
   ],
   "source": [
    "y = np.random.uniform(size=10)\n",
    "x = np.arange(10)\n",
    "print(\"Array:\", y)\n",
    "print(\"Array average:\", np.average(y))\n",
    "print(\"Array median:\", np.median(y))\n",
    "\n",
    "plt.show()\n",
    "plt.grid()\n",
    "plt.scatter(x, y)"
   ]
  },
  {
   "cell_type": "markdown",
   "id": "249a54bc",
   "metadata": {
    "id": "lVeip0vqCr48"
   },
   "source": [
    "# 4.3.2 Задание"
   ]
  },
  {
   "cell_type": "code",
   "execution_count": 59,
   "id": "4bd43ea3",
   "metadata": {
    "colab": {
     "base_uri": "https://localhost:8080/",
     "height": 677
    },
    "id": "-kXuan-JCzFk",
    "outputId": "4fc84400-d3fb-4b3c-8116-2253e9d8efca"
   },
   "outputs": [
    {
     "data": {
      "image/png": "[encoded data removed]",
      "text/plain": [
       "<Figure size 640x480 with 1 Axes>"
      ]
     },
     "metadata": {},
     "output_type": "display_data"
    },
    {
     "data": {
      "text/plain": [
       "<matplotlib.collections.PathCollection at 0x25bdd74e9d0>"
      ]
     },
     "execution_count": 59,
     "metadata": {},
     "output_type": "execute_result"
    },
    {
     "data": {
      "image/png": "[encoded data removed]",
      "text/plain": [
       "<Figure size 640x480 with 1 Axes>"
      ]
     },
     "metadata": {},
     "output_type": "display_data"
    }
   ],
   "source": [
    "def func(x):\n",
    "    return np.sqrt(1 + np.exp(np.sqrt(x)) + np.cos(x**2)) / np.abs(1 - np.sin(x) ** 3) + np.log(np.abs(2*x))\n",
    "\n",
    "x = np.arange(1, 11, 1)\n",
    "y = func(x)\n",
    "first_half = y[:len(y)//2]\n",
    "plt.grid()\n",
    "plt.plot(x, y)\n",
    "plt.show()\n",
    "plt.grid()\n",
    "plt.scatter(x[:len(first_half)], first_half)"
   ]
  },
  {
   "cell_type": "markdown",
   "id": "2a483085",
   "metadata": {
    "id": "lVeip0vqCr48"
   },
   "source": [
    "# 4.3.3 Задание"
   ]
  },
  {
   "cell_type": "code",
   "execution_count": 82,
   "id": "122df0c7",
   "metadata": {
    "colab": {
     "base_uri": "https://localhost:8080/",
     "height": 677
    },
    "id": "-kXuan-JCzFk",
    "outputId": "4fc84400-d3fb-4b3c-8116-2253e9d8efca"
   },
   "outputs": [
    {
     "name": "stdout",
     "output_type": "stream",
     "text": [
      "0.5585463510378139\n",
      "Area: 6.32164757930101\n"
     ]
    },
    {
     "data": {
      "image/png": "[encoded data removed]",
      "text/plain": [
       "<Figure size 640x480 with 1 Axes>"
      ]
     },
     "metadata": {},
     "output_type": "display_data"
    }
   ],
   "source": [
    "from scipy.integrate import simps\n",
    "\n",
    "\n",
    "def func(x):\n",
    "    return np.abs(np.cos(x*np.exp(np.cos(x) + np.log(x + 1))))\n",
    "\n",
    "x = np.arange(0, 10)\n",
    "y = func(x)\n",
    "plt.grid()\n",
    "plt.plot(x, y, c=\"r\")\n",
    "plt.fill_between(x, y)\n",
    "\n",
    "print(\"Area:\", simps(y))"
   ]
  },
  {
   "cell_type": "markdown",
   "id": "4188df65",
   "metadata": {
    "id": "lVeip0vqCr48"
   },
   "source": [
    "# 4.3.4 Задание"
   ]
  },
  {
   "cell_type": "code",
   "execution_count": 91,
   "id": "c42cc39c",
   "metadata": {
    "colab": {
     "base_uri": "https://localhost:8080/",
     "height": 677
    },
    "id": "-kXuan-JCzFk",
    "outputId": "4fc84400-d3fb-4b3c-8116-2253e9d8efca"
   },
   "outputs": [
    {
     "name": "stdout",
     "output_type": "stream",
     "text": [
      "Collecting yfinance\n",
      "  Downloading yfinance-0.2.12-py2.py3-none-any.whl (59 kB)\n",
      "     ---------------------------------------- 0.0/59.2 kB ? eta -:--:--\n",
      "     ---------------------------------------- 59.2/59.2 kB 1.0 MB/s eta 0:00:00\n",
      "Requirement already satisfied: pandas>=1.3.0 in c:\\users\\right\\appdata\\local\\programs\\python\\python311\\lib\\site-packages (from yfinance) (1.5.3)\n",
      "Requirement already satisfied: numpy>=1.16.5 in c:\\users\\right\\appdata\\local\\programs\\python\\python311\\lib\\site-packages (from yfinance) (1.24.2)\n",
      "Collecting requests>=2.26\n",
      "  Downloading requests-2.28.2-py3-none-any.whl (62 kB)\n",
      "     ---------------------------------------- 0.0/62.8 kB ? eta -:--:--\n",
      "     ---------------------------------------- 62.8/62.8 kB ? eta 0:00:00\n",
      "Collecting multitasking>=0.0.7\n",
      "  Downloading multitasking-0.0.11-py3-none-any.whl (8.5 kB)\n",
      "Collecting lxml>=4.9.1\n",
      "  Downloading lxml-4.9.2-cp311-cp311-win_amd64.whl (3.8 MB)\n",
      "     ---------------------------------------- 0.0/3.8 MB ? eta -:--:--\n",
      "     - -------------------------------------- 0.1/3.8 MB 4.3 MB/s eta 0:00:01\n",
      "     --- ------------------------------------ 0.3/3.8 MB 3.2 MB/s eta 0:00:02\n",
      "     ----- ---------------------------------- 0.5/3.8 MB 4.4 MB/s eta 0:00:01\n",
      "     ----- ---------------------------------- 0.5/3.8 MB 4.4 MB/s eta 0:00:01\n",
      "     --------- ------------------------------ 0.9/3.8 MB 4.9 MB/s eta 0:00:01\n",
      "     --------- ------------------------------ 0.9/3.8 MB 4.9 MB/s eta 0:00:01\n",
      "     ---------- ----------------------------- 1.0/3.8 MB 3.4 MB/s eta 0:00:01\n",
      "     --------------- ------------------------ 1.5/3.8 MB 4.5 MB/s eta 0:00:01\n",
      "     ---------------- ----------------------- 1.5/3.8 MB 3.8 MB/s eta 0:00:01\n",
      "     -------------------- ------------------- 1.9/3.8 MB 4.4 MB/s eta 0:00:01\n",
      "     ---------------------- ----------------- 2.1/3.8 MB 4.5 MB/s eta 0:00:01\n",
      "     ------------------------- -------------- 2.4/3.8 MB 4.6 MB/s eta 0:00:01\n",
      "     ------------------------- -------------- 2.4/3.8 MB 4.6 MB/s eta 0:00:01\n",
      "     ------------------------------ --------- 2.8/3.8 MB 4.6 MB/s eta 0:00:01\n",
      "     ------------------------------- -------- 3.0/3.8 MB 4.6 MB/s eta 0:00:01\n",
      "     ---------------------------------- ----- 3.2/3.8 MB 4.7 MB/s eta 0:00:01\n",
      "     ------------------------------------- -- 3.5/3.8 MB 4.6 MB/s eta 0:00:01\n",
      "     ---------------------------------------  3.8/3.8 MB 4.7 MB/s eta 0:00:01\n",
      "     ---------------------------------------- 3.8/3.8 MB 4.6 MB/s eta 0:00:00\n",
      "Collecting appdirs>=1.4.4\n",
      "  Downloading appdirs-1.4.4-py2.py3-none-any.whl (9.6 kB)\n",
      "Requirement already satisfied: pytz>=2022.5 in c:\\users\\right\\appdata\\local\\programs\\python\\python311\\lib\\site-packages (from yfinance) (2022.7.1)\n",
      "Collecting frozendict>=2.3.4\n",
      "  Downloading frozendict-2.3.5.tar.gz (309 kB)\n",
      "     ---------------------------------------- 0.0/309.7 kB ? eta -:--:--\n",
      "     ------------------------- ------------ 204.8/309.7 kB 6.1 MB/s eta 0:00:01\n",
      "     -------------------------------------- 309.7/309.7 kB 4.8 MB/s eta 0:00:00\n",
      "  Preparing metadata (setup.py): started\n",
      "  Preparing metadata (setup.py): finished with status 'done'\n",
      "Collecting cryptography>=3.3.2\n",
      "  Downloading cryptography-39.0.1-cp36-abi3-win_amd64.whl (2.5 MB)\n",
      "     ---------------------------------------- 0.0/2.5 MB ? eta -:--:--\n",
      "     -- ------------------------------------- 0.2/2.5 MB 5.3 MB/s eta 0:00:01\n",
      "     ------ --------------------------------- 0.4/2.5 MB 5.1 MB/s eta 0:00:01\n",
      "     ---------- ----------------------------- 0.7/2.5 MB 5.9 MB/s eta 0:00:01\n",
      "     -------------- ------------------------- 0.9/2.5 MB 5.2 MB/s eta 0:00:01\n",
      "     ------------------ --------------------- 1.1/2.5 MB 5.2 MB/s eta 0:00:01\n",
      "     ---------------------- ----------------- 1.4/2.5 MB 5.2 MB/s eta 0:00:01\n",
      "     -------------------------- ------------- 1.6/2.5 MB 5.2 MB/s eta 0:00:01\n",
      "     ----------------------------- ---------- 1.8/2.5 MB 5.3 MB/s eta 0:00:01\n",
      "     --------------------------------- ------ 2.0/2.5 MB 5.4 MB/s eta 0:00:01\n",
      "     ------------------------------------- -- 2.3/2.5 MB 5.2 MB/s eta 0:00:01\n",
      "     ---------------------------------------- 2.5/2.5 MB 5.2 MB/s eta 0:00:00\n",
      "Requirement already satisfied: beautifulsoup4>=4.11.1 in c:\\users\\right\\appdata\\local\\programs\\python\\python311\\lib\\site-packages (from yfinance) (4.11.2)\n",
      "Collecting html5lib>=1.1\n",
      "  Downloading html5lib-1.1-py2.py3-none-any.whl (112 kB)\n",
      "     ---------------------------------------- 0.0/112.2 kB ? eta -:--:--\n",
      "     -------------------------------------- 112.2/112.2 kB 6.8 MB/s eta 0:00:00\n",
      "Requirement already satisfied: soupsieve>1.2 in c:\\users\\right\\appdata\\local\\programs\\python\\python311\\lib\\site-packages (from beautifulsoup4>=4.11.1->yfinance) (2.3.2.post1)\n",
      "Requirement already satisfied: cffi>=1.12 in c:\\users\\right\\appdata\\local\\programs\\python\\python311\\lib\\site-packages (from cryptography>=3.3.2->yfinance) (1.15.1)\n",
      "Requirement already satisfied: six>=1.9 in c:\\users\\right\\appdata\\local\\programs\\python\\python311\\lib\\site-packages (from html5lib>=1.1->yfinance) (1.16.0)\n",
      "Requirement already satisfied: webencodings in c:\\users\\right\\appdata\\local\\programs\\python\\python311\\lib\\site-packages (from html5lib>=1.1->yfinance) (0.5.1)\n",
      "Requirement already satisfied: python-dateutil>=2.8.1 in c:\\users\\right\\appdata\\local\\programs\\python\\python311\\lib\\site-packages (from pandas>=1.3.0->yfinance) (2.8.2)\n",
      "Collecting charset-normalizer<4,>=2\n",
      "  Downloading charset_normalizer-3.0.1-cp311-cp311-win_amd64.whl (96 kB)\n",
      "     ---------------------------------------- 0.0/96.0 kB ? eta -:--:--\n",
      "     ---------------------------------------- 96.0/96.0 kB 5.4 MB/s eta 0:00:00\n",
      "Requirement already satisfied: idna<4,>=2.5 in c:\\users\\right\\appdata\\local\\programs\\python\\python311\\lib\\site-packages (from requests>=2.26->yfinance) (3.4)\n",
      "Collecting urllib3<1.27,>=1.21.1\n",
      "  Downloading urllib3-1.26.14-py2.py3-none-any.whl (140 kB)\n",
      "     ---------------------------------------- 0.0/140.6 kB ? eta -:--:--\n",
      "     -------------------------------------- 140.6/140.6 kB 4.1 MB/s eta 0:00:00\n",
      "Collecting certifi>=2017.4.17\n",
      "  Downloading certifi-2022.12.7-py3-none-any.whl (155 kB)\n",
      "     ---------------------------------------- 0.0/155.3 kB ? eta -:--:--\n",
      "     -------------------------------------- 155.3/155.3 kB 4.7 MB/s eta 0:00:00\n",
      "Requirement already satisfied: pycparser in c:\\users\\right\\appdata\\local\\programs\\python\\python311\\lib\\site-packages (from cffi>=1.12->cryptography>=3.3.2->yfinance) (2.21)\n",
      "Installing collected packages: multitasking, charset-normalizer, appdirs, urllib3, lxml, html5lib, frozendict, certifi, requests, cryptography, yfinance\n",
      "  Running setup.py install for frozendict: started\n",
      "  Running setup.py install for frozendict: finished with status 'done'\n",
      "Successfully installed appdirs-1.4.4 certifi-2022.12.7 charset-normalizer-3.0.1 cryptography-39.0.1 frozendict-2.3.5 html5lib-1.1 lxml-4.9.2 multitasking-0.0.11 requests-2.28.2 urllib3-1.26.14 yfinance-0.2.12\n"
     ]
    },
    {
     "name": "stderr",
     "output_type": "stream",
     "text": [
      "  DEPRECATION: frozendict is being installed using the legacy 'setup.py install' method, because it does not have a 'pyproject.toml' and the 'wheel' package is not installed. pip 23.1 will enforce this behaviour change. A possible replacement is to enable the '--use-pep517' option. Discussion can be found at https://github.com/pypa/pip/issues/8559\n",
      "\n",
      "[notice] A new release of pip is available: 23.0 -> 23.0.1\n",
      "[notice] To update, run: python.exe -m pip install --upgrade pip\n"
     ]
    }
   ],
   "source": [
    "!pip install yfinance"
   ]
  },
  {
   "cell_type": "code",
   "execution_count": 124,
   "id": "ec5fc551",
   "metadata": {},
   "outputs": [
    {
     "name": "stdout",
     "output_type": "stream",
     "text": [
      "[*********************100%***********************]  3 of 3 completed\n",
      "Index(['AAPL', 'GOOGL', 'MSFT'], dtype='object')\n"
     ]
    },
    {
     "data": {
      "image/png": "[encoded data removed]",
      "text/plain": [
       "<Figure size 640x480 with 1 Axes>"
      ]
     },
     "metadata": {},
     "output_type": "display_data"
    }
   ],
   "source": [
    "import yfinance as yf\n",
    "from datetime import datetime\n",
    "\n",
    "df = yf.download([\"GOOGL\", \"AAPL\", \"MSFT\"], start=datetime(2021,1,1), end=datetime(2022,1,1), interval='1mo')\n",
    "data = df[\"Open\"]\n",
    "print(data.columns)\n",
    "plt.grid()\n",
    "plt.plot(data)\n",
    "plt.legend(data.columns)\n",
    "plt.show()"
   ]
  },
  {
   "cell_type": "markdown",
   "id": "12c9fce8",
   "metadata": {
    "id": "lVeip0vqCr48"
   },
   "source": [
    "# 4.3.5 Задание"
   ]
  },
  {
   "cell_type": "code",
   "execution_count": 90,
   "id": "db483673",
   "metadata": {
    "colab": {
     "base_uri": "https://localhost:8080/",
     "height": 677
    },
    "id": "-kXuan-JCzFk",
    "outputId": "4fc84400-d3fb-4b3c-8116-2253e9d8efca"
   },
   "outputs": [
    {
     "name": "stdout",
     "output_type": "stream",
     "text": [
      "3\n",
      "-1\n",
      "2\n",
      "0.5\n",
      "20.085536923187668\n",
      "0.1411200080598672\n",
      "-0.9899924966004454\n",
      "1\n"
     ]
    }
   ],
   "source": [
    "import math\n",
    "\n",
    "\n",
    "class Calculator:\n",
    "    \n",
    "    def add(self, x, y):\n",
    "        return x + y\n",
    "    \n",
    "    def diff(self, x, y):\n",
    "        return x - y\n",
    "    \n",
    "    def prod(self, x, y):\n",
    "        return x * y\n",
    "    \n",
    "    def div(self, x, y):\n",
    "        return x / y\n",
    "    \n",
    "    def exp_sum(self, x, y):\n",
    "        return math.exp(x + y)\n",
    "    \n",
    "    def sin_of_sum(self, x, y):\n",
    "        return math.sin(x + y)\n",
    "    \n",
    "    def cos_of_sum(self, x, y):\n",
    "        return math.cos(x + y)\n",
    "    \n",
    "    def power(self, x, y):\n",
    "        return x ** y\n",
    "\n",
    "\n",
    "calculator = Calculator()\n",
    "x, y = 1, 2\n",
    "print(calculator.add(x, y))\n",
    "print(calculator.diff(x, y))\n",
    "print(calculator.prod(x, y))\n",
    "print(calculator.div(x, y))\n",
    "print(calculator.exp_sum(x, y))\n",
    "print(calculator.sin_of_sum(x, y))\n",
    "print(calculator.cos_of_sum(x, y))\n",
    "print(calculator.power(x, y))"
   ]
  }
 ],
 "metadata": {
  "colab": {
   "provenance": []
  },
  "kernelspec": {
   "display_name": "Python 3 (ipykernel)",
   "language": "python",
   "name": "python3"
  },
  "language_info": {
   "codemirror_mode": {
    "name": "ipython",
    "version": 3
   },
   "file_extension": ".py",
   "mimetype": "text/x-python",
   "name": "python",
   "nbconvert_exporter": "python",
   "pygments_lexer": "ipython3",
   "version": "3.11.2"
  }
 },
 "nbformat": 4,
 "nbformat_minor": 5
}
