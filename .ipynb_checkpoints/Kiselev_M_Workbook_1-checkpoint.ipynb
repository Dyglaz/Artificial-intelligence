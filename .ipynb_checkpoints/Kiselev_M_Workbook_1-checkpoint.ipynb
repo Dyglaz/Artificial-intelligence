{
 "cells": [
  {
   "cell_type": "markdown",
   "id": "efca97e6",
   "metadata": {
    "id": "efca97e6"
   },
   "source": [
    "# 1.2 Пример "
   ]
  },
  {
   "cell_type": "code",
   "execution_count": 37,
   "id": "61624765",
   "metadata": {
    "id": "61624765",
    "outputId": "cfbd48fc-48d1-4ff6-f927-bd67840d22db"
   },
   "outputs": [
    {
     "name": "stdout",
     "output_type": "stream",
     "text": [
      "39.4 | <class 'float'> \n",
      " None | <class 'NoneType'> \n",
      " ('a', 5, 12.345, (2, 'b')) | <class 'tuple'> \n",
      " [['Aнтонова Антонина', 34, 'ж'], ['Борисов Борис', 26, 'м']] | <class 'list'> \n",
      " {1, 2, 'content', 'title'} | <class 'set'>\n"
     ]
    }
   ],
   "source": [
    "x = 3+5.2*7\n",
    "y = None\n",
    "z = 'a', 5, 12.345, (2, 'b')\n",
    "df = [['Aнтонова Антонина', 34 , 'ж'], ['Борисов Борис', 26, 'м']]\n",
    "A = {1, 'title', 2, 'content'}\n",
    "print (x, '|', type(x), '\\n', y, '|', type(y), '\\n',\n",
    "      z, '|', type(z), '\\n', df, '|', type(df), '\\n', A, '|', type(A))"
   ]
  },
  {
   "cell_type": "markdown",
   "id": "2405c2ef",
   "metadata": {
    "id": "2405c2ef"
   },
   "source": [
    "# 1.3 Задание"
   ]
  },
  {
   "cell_type": "code",
   "execution_count": 25,
   "id": "36d8e781",
   "metadata": {
    "id": "36d8e781",
    "outputId": "7c12f690-a49a-4572-f125-924a43f1b260"
   },
   "outputs": [
    {
     "name": "stdout",
     "output_type": "stream",
     "text": [
      "True | <class 'bool'> \n",
      " {8, 1, 3, 7} | <class 'set'> \n",
      " {2, 'apple', 4, 5, 10} | <class 'set'> \n",
      " set() | <class 'set'> \n",
      " ('Антонова Антонина', 34, 'ж') | <class 'tuple'> \n",
      " type | <class 'str'> \n",
      " [1, 'title', 2, 'content'] | <class 'list'> \n",
      "\n"
     ]
    }
   ],
   "source": [
    "x = 5 >= 2\n",
    "A = {1, 3, 7, 8}\n",
    "B = {2, 4, 5, 10, 'apple'}\n",
    "C = A & B\n",
    "df = 'Антонова Антонина', 34, 'ж'\n",
    "z = 'type'\n",
    "D = [1, 'title', 2, 'content']\n",
    "\n",
    "print(x, '|', type(x), '\\n',\n",
    "      A, '|', type(A), '\\n',\n",
    "      B, '|', type(B), '\\n',\n",
    "      C, '|', type(C), '\\n',\n",
    "      df, '|', type(df), '\\n',\n",
    "      z, '|', type(z), '\\n',\n",
    "      D, '|', type(D), '\\n')"
   ]
  },
  {
   "cell_type": "markdown",
   "id": "17b9cfbf",
   "metadata": {
    "id": "17b9cfbf"
   },
   "source": [
    "# 2.2 Пример"
   ]
  },
  {
   "cell_type": "code",
   "execution_count": 39,
   "id": "0080aed8",
   "metadata": {
    "id": "0080aed8",
    "outputId": "d8d83032-7b46-4761-ee1e-74d39ae0effc"
   },
   "outputs": [
    {
     "name": "stdout",
     "output_type": "stream",
     "text": [
      "x положительный\n"
     ]
    }
   ],
   "source": [
    "x = 125\n",
    "if x<0:\n",
    "    print(\"x отрицательный\")\n",
    "elif x==0:\n",
    "    print(\"x равен нулю\")\n",
    "else:\n",
    "    print(\"x положительный\")"
   ]
  },
  {
   "cell_type": "markdown",
   "id": "fda6c68f",
   "metadata": {
    "id": "fda6c68f"
   },
   "source": [
    "# 2.3 Задание"
   ]
  },
  {
   "cell_type": "code",
   "execution_count": 7,
   "id": "3d328168",
   "metadata": {
    "id": "3d328168",
    "outputId": "a51e8fbc-116c-4233-ac7d-400a52afea9b"
   },
   "outputs": [
    {
     "name": "stdout",
     "output_type": "stream",
     "text": [
      "5\n",
      "x принадлежит [-5, 5]\n"
     ]
    }
   ],
   "source": [
    "x = float(input())\n",
    "if (x <-5):\n",
    "    print(\"x принадлежит (-infinity, -5)\")\n",
    "elif (x >= -5) and (x <= 5):\n",
    "    print(\"x принадлежит [-5, 5]\")\n",
    "else:\n",
    "    print(\"x принеадлежит (5, infinity)\")"
   ]
  },
  {
   "cell_type": "markdown",
   "id": "bc487375",
   "metadata": {
    "id": "bc487375"
   },
   "source": [
    "# 3.2.1 Пример"
   ]
  },
  {
   "cell_type": "code",
   "execution_count": 41,
   "id": "1064db3d",
   "metadata": {
    "id": "1064db3d",
    "outputId": "ab89a1ad-52bc-4d9e-bc3a-f4c178813cfa"
   },
   "outputs": [
    {
     "name": "stdout",
     "output_type": "stream",
     "text": [
      "1\n",
      "4\n",
      "7\n",
      "10\n"
     ]
    }
   ],
   "source": [
    "x = 1\n",
    "while x <= 10:\n",
    "    print(x)\n",
    "    x += 3"
   ]
  },
  {
   "cell_type": "markdown",
   "id": "BAaHzUgS5Bev",
   "metadata": {
    "id": "BAaHzUgS5Bev"
   },
   "source": [
    "# 3.2.2 Пример"
   ]
  },
  {
   "cell_type": "code",
   "execution_count": 42,
   "id": "Afoq27635RDw",
   "metadata": {
    "colab": {
     "base_uri": "https://localhost:8080/"
    },
    "id": "Afoq27635RDw",
    "outputId": "73e099bb-4a69-4572-b65a-bcd4c02588c3"
   },
   "outputs": [
    {
     "name": "stdout",
     "output_type": "stream",
     "text": [
      "KNN\n",
      "decision free\n",
      "linear model\n"
     ]
    }
   ],
   "source": [
    "models = ['KNN', 'decision free', 'linear model']\n",
    "for model in models:\n",
    "    print(model)"
   ]
  },
  {
   "cell_type": "markdown",
   "id": "plSqIAiP5mDz",
   "metadata": {
    "id": "plSqIAiP5mDz"
   },
   "source": [
    "# 3.2.3 Пример"
   ]
  },
  {
   "cell_type": "code",
   "execution_count": 43,
   "id": "9DBKHxOc6O3i",
   "metadata": {
    "colab": {
     "base_uri": "https://localhost:8080/"
    },
    "id": "9DBKHxOc6O3i",
    "outputId": "70537145-9b5a-473f-a04a-878aced2a501"
   },
   "outputs": [
    {
     "name": "stdout",
     "output_type": "stream",
     "text": [
      "[1, 8, 15, 22, 29, 36, 43, 50, 57, 64, 71, 78, 85, 92, 99]\n"
     ]
    }
   ],
   "source": [
    "list_int = range(1, 100, 7)\n",
    "print(list(list_int))"
   ]
  },
  {
   "cell_type": "markdown",
   "id": "5v_Rx6vx6XMK",
   "metadata": {
    "id": "5v_Rx6vx6XMK"
   },
   "source": [
    "# 3.2.4 Пример"
   ]
  },
  {
   "cell_type": "code",
   "execution_count": 44,
   "id": "hIG6JafD6b8y",
   "metadata": {
    "colab": {
     "base_uri": "https://localhost:8080/"
    },
    "id": "hIG6JafD6b8y",
    "outputId": "83fab822-bea2-4447-d387-7ea9863331ae"
   },
   "outputs": [
    {
     "name": "stdout",
     "output_type": "stream",
     "text": [
      "5\n",
      "30\n",
      "55\n",
      "80\n",
      "105\n"
     ]
    }
   ],
   "source": [
    "for i in range(5, 106, 25):\n",
    "    print(i)"
   ]
  },
  {
   "cell_type": "markdown",
   "id": "vWLCpL5h6oTU",
   "metadata": {
    "id": "vWLCpL5h6oTU"
   },
   "source": [
    "# 3.2.5 Пример"
   ]
  },
  {
   "cell_type": "code",
   "execution_count": 45,
   "id": "B8sNhzs_6qRM",
   "metadata": {
    "colab": {
     "base_uri": "https://localhost:8080/"
    },
    "id": "B8sNhzs_6qRM",
    "outputId": "c0209383-9d61-4fa1-f6ec-0f726585d1b8"
   },
   "outputs": [
    {
     "name": "stdout",
     "output_type": "stream",
     "text": [
      "[2, 4, 6]\n",
      "[9, 8, 7, 6, 5, 4, 3, 2, 1]\n"
     ]
    }
   ],
   "source": [
    "a = [1, 2, 3, 4, 5, 6, 7, 8, 9]\n",
    "b = a[1:7:2]\n",
    "c = a[::-1]\n",
    "print(b)\n",
    "print(c)"
   ]
  },
  {
   "cell_type": "markdown",
   "id": "20b51e44",
   "metadata": {
    "id": "20b51e44"
   },
   "source": [
    "# 3.3.1 Задание"
   ]
  },
  {
   "cell_type": "code",
   "execution_count": 1,
   "id": "48249749",
   "metadata": {
    "id": "48249749",
    "outputId": "607e2e1f-87ee-4041-e980-fa08db416900"
   },
   "outputs": [
    {
     "name": "stdout",
     "output_type": "stream",
     "text": [
      "10\n",
      "7\n",
      "4\n",
      "1\n"
     ]
    }
   ],
   "source": [
    "x = 10\n",
    "while x >= 1:\n",
    "    print(x)\n",
    "    x -= 3"
   ]
  },
  {
   "cell_type": "markdown",
   "id": "51a2491a",
   "metadata": {
    "id": "51a2491a"
   },
   "source": [
    "# 3.3.2 Задание"
   ]
  },
  {
   "cell_type": "code",
   "execution_count": 2,
   "id": "e494cac8",
   "metadata": {
    "id": "e494cac8",
    "outputId": "fc1ef605-b67b-4cf5-eee1-a53686206ba8"
   },
   "outputs": [
    {
     "name": "stdout",
     "output_type": "stream",
     "text": [
      "name\n",
      "surname\n",
      "patronymic\n",
      "date of birth\n",
      "city\n"
     ]
    }
   ],
   "source": [
    "human = ['name', 'surname', 'patronymic', 'date of birth', 'city']\n",
    "for i in human:\n",
    "    print(i)"
   ]
  },
  {
   "cell_type": "markdown",
   "id": "807abbbc",
   "metadata": {
    "id": "807abbbc"
   },
   "source": [
    "# 3.3.3 Задание"
   ]
  },
  {
   "cell_type": "code",
   "execution_count": 8,
   "id": "85d8b262",
   "metadata": {
    "id": "85d8b262",
    "outputId": "4f863148-b332-49e0-b3aa-f4cc2f18fca3"
   },
   "outputs": [
    {
     "name": "stdout",
     "output_type": "stream",
     "text": [
      "[2, 3, 4, 5, 6, 7, 8, 9, 10, 11, 12, 13, 14, 15]\n"
     ]
    }
   ],
   "source": [
    "x = range(2,16)\n",
    "print(list(x))"
   ]
  },
  {
   "cell_type": "markdown",
   "id": "354fc8ec",
   "metadata": {
    "id": "354fc8ec"
   },
   "source": [
    "# 3.3.4 Задание"
   ]
  },
  {
   "cell_type": "code",
   "execution_count": 49,
   "id": "b5c63ba6",
   "metadata": {
    "id": "b5c63ba6",
    "outputId": "1b8d9bdb-67d7-4ac0-dc34-303e7c7ab2e1"
   },
   "outputs": [
    {
     "name": "stdout",
     "output_type": "stream",
     "text": [
      "105\n",
      "80\n",
      "55\n",
      "30\n",
      "5\n"
     ]
    }
   ],
   "source": [
    "for i in range(105, 4, -25):\n",
    "    print(i)"
   ]
  },
  {
   "cell_type": "markdown",
   "id": "4aY8wZMd-rII",
   "metadata": {
    "id": "4aY8wZMd-rII"
   },
   "source": [
    "# 3.3.5 Задание"
   ]
  },
  {
   "cell_type": "code",
   "execution_count": 3,
   "id": "pLsUM519-tyF",
   "metadata": {
    "colab": {
     "base_uri": "https://localhost:8080/"
    },
    "id": "pLsUM519-tyF",
    "outputId": "3920f777-cad5-443a-d9bb-db46e9399b2b"
   },
   "outputs": [
    {
     "name": "stdout",
     "output_type": "stream",
     "text": [
      "[8, 1, 6, 3, 4, 5, 2, 7, 0, 9]\n"
     ]
    }
   ],
   "source": [
    "x = [0 , 1, 2, 3, 4, 5, 6, 7, 8, 9]\n",
    "x[0::2] = reversed(x[0::2])\n",
    "print(x)"
   ]
  },
  {
   "cell_type": "markdown",
   "id": "9ncVzgqWBI6B",
   "metadata": {
    "id": "9ncVzgqWBI6B"
   },
   "source": [
    "# 4.2.1 Пример"
   ]
  },
  {
   "cell_type": "code",
   "execution_count": 51,
   "id": "76b1f90e",
   "metadata": {
    "colab": {
     "base_uri": "https://localhost:8080/"
    },
    "id": "76b1f90e",
    "outputId": "ca6de1bd-58cc-4888-e0e2-1238a904007e"
   },
   "outputs": [
    {
     "name": "stdout",
     "output_type": "stream",
     "text": [
      "0.41078129050290885\n"
     ]
    }
   ],
   "source": [
    "import math as m\n",
    "print(m.sin(m.e))"
   ]
  },
  {
   "cell_type": "markdown",
   "id": "UPVMfrhEBya_",
   "metadata": {
    "id": "UPVMfrhEBya_"
   },
   "source": [
    "# 4.2.2 Пример"
   ]
  },
  {
   "cell_type": "code",
   "execution_count": 52,
   "id": "00dwRdczB17I",
   "metadata": {
    "colab": {
     "base_uri": "https://localhost:8080/",
     "height": 283
    },
    "id": "00dwRdczB17I",
    "outputId": "105c6b82-29fa-47a3-8c56-25a2f0a11bc7"
   },
   "outputs": [
    {
     "name": "stdout",
     "output_type": "stream",
     "text": [
      "73.50792907748662\n"
     ]
    },
    {
     "data": {
      "image/png": "[encoded data removed]",
      "text/plain": [
       "<Figure size 640x480 with 1 Axes>"
      ]
     },
     "metadata": {},
     "output_type": "display_data"
    }
   ],
   "source": [
    "import numpy as np\n",
    "import matplotlib.pyplot as plt\n",
    "from scipy.integrate import simps\n",
    "from numpy import trapz\n",
    "x = np.arange(0.0, 10, 0.1)\n",
    "y = np.abs(np.sin(x*np.exp(np.cos(x))))\n",
    "plt.grid()\n",
    "plt.plot(x, y, c = \"r\")\n",
    "plt.fill_between(x, y)\n",
    "\n",
    "area = trapz(y)\n",
    "print(area)"
   ]
  },
  {
   "cell_type": "markdown",
   "id": "lVeip0vqCr48",
   "metadata": {
    "id": "lVeip0vqCr48"
   },
   "source": [
    "# 4.2.3 Пример"
   ]
  },
  {
   "cell_type": "code",
   "execution_count": 53,
   "id": "-kXuan-JCzFk",
   "metadata": {
    "colab": {
     "base_uri": "https://localhost:8080/",
     "height": 677
    },
    "id": "-kXuan-JCzFk",
    "outputId": "4fc84400-d3fb-4b3c-8116-2253e9d8efca"
   },
   "outputs": [
    {
     "data": {
      "image/png": "[encoded data removed]",
      "text/plain": [
       "<Figure size 1000x700 with 1 Axes>"
      ]
     },
     "metadata": {},
     "output_type": "display_data"
    },
    {
     "data": {
      "text/plain": [
       "<matplotlib.collections.PathCollection at 0x26ea8beb950>"
      ]
     },
     "execution_count": 53,
     "metadata": {},
     "output_type": "execute_result"
    },
    {
     "data": {
      "image/png": "[encoded data removed]",
      "text/plain": [
       "<Figure size 640x480 with 1 Axes>"
      ]
     },
     "metadata": {},
     "output_type": "display_data"
    }
   ],
   "source": [
    "from matplotlib import pyplot as plt\n",
    "import numpy as np\n",
    "\n",
    "marks = ['Неуд', 'Удовл', 'Хор', 'Отл']\n",
    "\n",
    "data = [3, 7, 8, 4]\n",
    "fig = plt.figure(figsize =(10, 7))\n",
    "plt.pie(data, labels = marks)\n",
    "plt.show()\n",
    "plt.grid()\n",
    "plt.scatter(marks, data)"
   ]
  },
  {
   "cell_type": "markdown",
   "id": "37eae7f3",
   "metadata": {
    "id": "lVeip0vqCr48"
   },
   "source": [
    "# 4.3.1 Задание"
   ]
  },
  {
   "cell_type": "code",
   "execution_count": 9,
   "id": "54228efe",
   "metadata": {
    "colab": {
     "base_uri": "https://localhost:8080/",
     "height": 677
    },
    "id": "-kXuan-JCzFk",
    "outputId": "4fc84400-d3fb-4b3c-8116-2253e9d8efca"
   },
   "outputs": [
    {
     "name": "stdout",
     "output_type": "stream",
     "text": [
      "Array:  [0.739244185590997, 0.5373430561612524, 0.07818828249297027, 0.20586317627757356, 0.2981348633307178, 0.36927807191749384, 0.864095420788669, 0.10146791627735496, 0.07356327892702452, 0.4672443005170358, 0.21538997609818133]\n",
      "\n",
      "Arithmetic mean: 0.35907386621629733\n",
      "\n",
      "Median value:  0.2981348633307178\n"
     ]
    },
    {
     "data": {
      "image/png": "[encoded data removed]",
      "text/plain": [
       "<Figure size 640x480 with 1 Axes>"
      ]
     },
     "metadata": {},
     "output_type": "display_data"
    }
   ],
   "source": [
    "import random\n",
    "from statistics import mean, median\n",
    "from matplotlib import pyplot as plt\n",
    "\n",
    "x= [random.uniform(0, 1) for i in range(11)]\n",
    "print(\"Array: \", x)\n",
    "print(\"\\nArithmetic mean:\", mean(x))\n",
    "print(\"\\nMedian value: \", median(x))\n",
    "y = [i for i in range(11)] \n",
    "plt.grid(color='g', linestyle='-', linewidth=1)\n",
    "plt.scatter(y, x)\n",
    "plt.show()"
   ]
  },
  {
   "cell_type": "markdown",
   "id": "249a54bc",
   "metadata": {
    "id": "lVeip0vqCr48"
   },
   "source": [
    "# 4.3.2 Задание"
   ]
  },
  {
   "cell_type": "code",
   "execution_count": 10,
   "id": "4bd43ea3",
   "metadata": {
    "colab": {
     "base_uri": "https://localhost:8080/",
     "height": 677
    },
    "id": "-kXuan-JCzFk",
    "outputId": "4fc84400-d3fb-4b3c-8116-2253e9d8efca"
   },
   "outputs": [
    {
     "data": {
      "image/png": "[encoded data removed]",
      "text/plain": [
       "<Figure size 640x480 with 1 Axes>"
      ]
     },
     "metadata": {},
     "output_type": "display_data"
    },
    {
     "data": {
      "image/png": "[encoded data removed]",
      "text/plain": [
       "<Figure size 640x480 with 1 Axes>"
      ]
     },
     "metadata": {},
     "output_type": "display_data"
    }
   ],
   "source": [
    "import numpy as np\n",
    "\n",
    "def func(x):\n",
    "    return np.sqrt(1 + np.exp(np.sqrt(x)) + np.cos(x**2)) / np.abs(1 - np.sin(x) ** 3) + np.log(np.abs(2*x))\n",
    "\n",
    "x = np.arange(1, 11, 1)\n",
    "y = func(x)\n",
    "first_half = y[:len(y)//2]\n",
    "plt.grid()\n",
    "plt.plot(x, y)\n",
    "plt.show()\n",
    "plt.grid()\n",
    "plt.scatter(x[:len(first_half)], first_half)\n",
    "plt.show()"
   ]
  },
  {
   "cell_type": "markdown",
   "id": "2a483085",
   "metadata": {
    "id": "lVeip0vqCr48"
   },
   "source": [
    "# 4.3.3 Задание"
   ]
  },
  {
   "cell_type": "code",
   "execution_count": 6,
   "id": "122df0c7",
   "metadata": {
    "colab": {
     "base_uri": "https://localhost:8080/",
     "height": 677
    },
    "id": "-kXuan-JCzFk",
    "outputId": "4fc84400-d3fb-4b3c-8116-2253e9d8efca"
   },
   "outputs": [
    {
     "name": "stdout",
     "output_type": "stream",
     "text": [
      "6.748183214657733\n"
     ]
    },
    {
     "data": {
      "image/png": "[encoded data removed]",
      "text/plain": [
       "<Figure size 640x480 with 1 Axes>"
      ]
     },
     "metadata": {},
     "output_type": "display_data"
    }
   ],
   "source": [
    "import math\n",
    "from matplotlib import pyplot as plt\n",
    "from scipy.integrate import simps\n",
    "from numpy import trapz\n",
    "\n",
    "x = [i for i in range(0,11)]\n",
    "y = [np.abs(np.cos(i*np.exp(np.cos(i) + np.log(i + 1)))) for i in range(0,11)]\n",
    "plt.grid()\n",
    "plt.plot(x,y)\n",
    "plt.fill_between(x,y)\n",
    "area = trapz(y)\n",
    "print(area)"
   ]
  },
  {
   "cell_type": "markdown",
   "id": "4188df65",
   "metadata": {
    "id": "lVeip0vqCr48"
   },
   "source": [
    "# 4.3.4 Задание"
   ]
  },
  {
   "cell_type": "code",
   "execution_count": 50,
   "id": "c42cc39c",
   "metadata": {
    "colab": {
     "base_uri": "https://localhost:8080/",
     "height": 677
    },
    "id": "-kXuan-JCzFk",
    "outputId": "4fc84400-d3fb-4b3c-8116-2253e9d8efca"
   },
   "outputs": [
    {
     "name": "stdout",
     "output_type": "stream",
     "text": [
      "Collecting yfinance\n",
      "  Using cached yfinance-0.2.12-py2.py3-none-any.whl (59 kB)\n",
      "Collecting pandas>=1.3.0\n",
      "  Using cached pandas-1.5.3-cp311-cp311-win_amd64.whl (10.3 MB)\n",
      "Collecting pytz>=2022.5\n",
      "  Using cached pytz-2022.7.1-py2.py3-none-any.whl (499 kB)\n",
      "Collecting beautifulsoup4>=4.11.1\n",
      "  Using cached beautifulsoup4-4.11.2-py3-none-any.whl (129 kB)\n",
      "Collecting frozendict>=2.3.4\n",
      "  Using cached frozendict-2.3.5.tar.gz (309 kB)\n",
      "  Preparing metadata (setup.py): started\n",
      "  Preparing metadata (setup.py): finished with status 'done'\n",
      "Collecting appdirs>=1.4.4\n",
      "  Using cached appdirs-1.4.4-py2.py3-none-any.whl (9.6 kB)\n",
      "Collecting lxml>=4.9.1\n",
      "  Using cached lxml-4.9.2-cp311-cp311-win_amd64.whl (3.8 MB)\n",
      "Collecting html5lib>=1.1\n",
      "  Using cached html5lib-1.1-py2.py3-none-any.whl (112 kB)\n",
      "Collecting requests>=2.26\n",
      "  Using cached requests-2.28.2-py3-none-any.whl (62 kB)\n",
      "Requirement already satisfied: numpy>=1.16.5 in d:\\buz\\semestr4\\uu\\workbooks\\venv\\lib\\site-packages (from yfinance) (1.24.2)\n",
      "Collecting cryptography>=3.3.2\n",
      "  Using cached cryptography-39.0.1-cp36-abi3-win_amd64.whl (2.5 MB)\n",
      "Collecting multitasking>=0.0.7\n",
      "  Using cached multitasking-0.0.11-py3-none-any.whl (8.5 kB)\n",
      "Collecting soupsieve>1.2\n",
      "  Using cached soupsieve-2.4-py3-none-any.whl (37 kB)\n",
      "Collecting cffi>=1.12\n",
      "  Using cached cffi-1.15.1-cp311-cp311-win_amd64.whl (179 kB)\n",
      "Requirement already satisfied: six>=1.9 in d:\\buz\\semestr4\\uu\\workbooks\\venv\\lib\\site-packages (from html5lib>=1.1->yfinance) (1.16.0)\n",
      "Collecting webencodings\n",
      "  Using cached webencodings-0.5.1-py2.py3-none-any.whl (11 kB)\n",
      "Requirement already satisfied: python-dateutil>=2.8.1 in d:\\buz\\semestr4\\uu\\workbooks\\venv\\lib\\site-packages (from pandas>=1.3.0->yfinance) (2.8.2)\n",
      "Collecting certifi>=2017.4.17\n",
      "  Using cached certifi-2022.12.7-py3-none-any.whl (155 kB)\n",
      "Collecting urllib3<1.27,>=1.21.1\n",
      "  Using cached urllib3-1.26.14-py2.py3-none-any.whl (140 kB)\n",
      "Collecting idna<4,>=2.5\n",
      "  Using cached idna-3.4-py3-none-any.whl (61 kB)\n",
      "Collecting charset-normalizer<4,>=2\n",
      "  Using cached charset_normalizer-3.0.1-cp311-cp311-win_amd64.whl (96 kB)\n",
      "Collecting pycparser\n",
      "  Using cached pycparser-2.21-py2.py3-none-any.whl (118 kB)\n",
      "Building wheels for collected packages: frozendict\n",
      "  Building wheel for frozendict (setup.py): started\n",
      "  Building wheel for frozendict (setup.py): finished with status 'error'\n",
      "  Running setup.py clean for frozendict\n",
      "Failed to build frozendict\n",
      "Installing collected packages: pycparser, webencodings, urllib3, soupsieve, pytz, idna, charset-normalizer, cffi, certifi, requests, pandas, multitasking, lxml, html5lib, frozendict, cryptography, beautifulsoup4, appdirs, yfinance\n",
      "    Running setup.py install for frozendict: started\n",
      "    Running setup.py install for frozendict: finished with status 'done'\n",
      "Successfully installed appdirs-1.4.4 beautifulsoup4-4.11.2 certifi-2022.12.7 cffi-1.15.1 charset-normalizer-3.0.1 cryptography-39.0.1 frozendict-2.3.5 html5lib-1.1 idna-3.4 lxml-4.9.2 multitasking-0.0.11 pandas-1.5.3 pycparser-2.21 pytz-2022.7.1 requests-2.28.2 soupsieve-2.4 urllib3-1.26.14 webencodings-0.5.1 yfinance-0.2.12\n"
     ]
    },
    {
     "name": "stderr",
     "output_type": "stream",
     "text": [
      "  ERROR: Command errored out with exit status 1:\n",
      "   command: 'D:\\BUZ\\semestr4\\UU\\Workbooks\\venv\\Scripts\\python.exe' -u -c 'import io, os, sys, setuptools, tokenize; sys.argv[0] = '\"'\"'C:\\\\Users\\\\kallk\\\\AppData\\\\Local\\\\Temp\\\\pip-install-g_xtrmaj\\\\frozendict_5ea039fd5fdc4cc18601a9fe8183ba66\\\\setup.py'\"'\"'; __file__='\"'\"'C:\\\\Users\\\\kallk\\\\AppData\\\\Local\\\\Temp\\\\pip-install-g_xtrmaj\\\\frozendict_5ea039fd5fdc4cc18601a9fe8183ba66\\\\setup.py'\"'\"';f = getattr(tokenize, '\"'\"'open'\"'\"', open)(__file__) if os.path.exists(__file__) else io.StringIO('\"'\"'from setuptools import setup; setup()'\"'\"');code = f.read().replace('\"'\"'\\r\\n'\"'\"', '\"'\"'\\n'\"'\"');f.close();exec(compile(code, __file__, '\"'\"'exec'\"'\"'))' bdist_wheel -d 'C:\\Users\\kallk\\AppData\\Local\\Temp\\pip-wheel-9lh50_k8'\n",
      "       cwd: C:\\Users\\kallk\\AppData\\Local\\Temp\\pip-install-g_xtrmaj\\frozendict_5ea039fd5fdc4cc18601a9fe8183ba66\\\n",
      "  Complete output (64 lines):\n",
      "  running bdist_wheel\n",
      "  running build\n",
      "  running build_py\n",
      "  creating build\n",
      "  creating build\\lib.win-amd64-3.11\n",
      "  creating build\\lib.win-amd64-3.11\\frozendict\n",
      "  copying frozendict\\core.py -> build\\lib.win-amd64-3.11\\frozendict\n",
      "  copying frozendict\\version.py -> build\\lib.win-amd64-3.11\\frozendict\n",
      "  copying frozendict\\__init__.py -> build\\lib.win-amd64-3.11\\frozendict\n",
      "  copying frozendict\\py.typed -> build\\lib.win-amd64-3.11\\frozendict\n",
      "  copying frozendict\\frozendict.pyi -> build\\lib.win-amd64-3.11\\frozendict\n",
      "  running build_ext\n",
      "  Traceback (most recent call last):\n",
      "    File \"<string>\", line 1, in <module>\n",
      "    File \"C:\\Users\\kallk\\AppData\\Local\\Temp\\pip-install-g_xtrmaj\\frozendict_5ea039fd5fdc4cc18601a9fe8183ba66\\setup.py\", line 207, in <module>\n",
      "      setuptools.setup(ext_modules = ext_modules, **common_setup_args)\n",
      "    File \"D:\\BUZ\\semestr4\\UU\\Workbooks\\venv\\Lib\\site-packages\\setuptools\\__init__.py\", line 155, in setup\n",
      "      return distutils.core.setup(**attrs)\n",
      "             ^^^^^^^^^^^^^^^^^^^^^^^^^^^^^\n",
      "    File \"D:\\BUZ\\semestr4\\UU\\Workbooks\\venv\\Lib\\site-packages\\setuptools\\_distutils\\core.py\", line 148, in setup\n",
      "      return run_commands(dist)\n",
      "             ^^^^^^^^^^^^^^^^^^\n",
      "    File \"D:\\BUZ\\semestr4\\UU\\Workbooks\\venv\\Lib\\site-packages\\setuptools\\_distutils\\core.py\", line 163, in run_commands\n",
      "      dist.run_commands()\n",
      "    File \"D:\\BUZ\\semestr4\\UU\\Workbooks\\venv\\Lib\\site-packages\\setuptools\\_distutils\\dist.py\", line 967, in run_commands\n",
      "      self.run_command(cmd)\n",
      "    File \"D:\\BUZ\\semestr4\\UU\\Workbooks\\venv\\Lib\\site-packages\\setuptools\\_distutils\\dist.py\", line 986, in run_command\n",
      "      cmd_obj.run()\n",
      "    File \"D:\\BUZ\\semestr4\\UU\\Workbooks\\venv\\Lib\\site-packages\\wheel\\bdist_wheel.py\", line 299, in run\n",
      "      self.run_command('build')\n",
      "    File \"D:\\BUZ\\semestr4\\UU\\Workbooks\\venv\\Lib\\site-packages\\setuptools\\_distutils\\cmd.py\", line 313, in run_command\n",
      "      self.distribution.run_command(command)\n",
      "    File \"D:\\BUZ\\semestr4\\UU\\Workbooks\\venv\\Lib\\site-packages\\setuptools\\_distutils\\dist.py\", line 986, in run_command\n",
      "      cmd_obj.run()\n",
      "    File \"D:\\BUZ\\semestr4\\UU\\Workbooks\\venv\\Lib\\site-packages\\setuptools\\_distutils\\command\\build.py\", line 135, in run\n",
      "      self.run_command(cmd_name)\n",
      "    File \"D:\\BUZ\\semestr4\\UU\\Workbooks\\venv\\Lib\\site-packages\\setuptools\\_distutils\\cmd.py\", line 313, in run_command\n",
      "      self.distribution.run_command(command)\n",
      "    File \"D:\\BUZ\\semestr4\\UU\\Workbooks\\venv\\Lib\\site-packages\\setuptools\\_distutils\\dist.py\", line 986, in run_command\n",
      "      cmd_obj.run()\n",
      "    File \"D:\\BUZ\\semestr4\\UU\\Workbooks\\venv\\Lib\\site-packages\\setuptools\\command\\build_ext.py\", line 79, in run\n",
      "      _build_ext.run(self)\n",
      "    File \"D:\\BUZ\\semestr4\\UU\\Workbooks\\venv\\Lib\\site-packages\\setuptools\\_distutils\\command\\build_ext.py\", line 339, in run\n",
      "      self.build_extensions()\n",
      "    File \"D:\\BUZ\\semestr4\\UU\\Workbooks\\venv\\Lib\\site-packages\\setuptools\\_distutils\\command\\build_ext.py\", line 448, in build_extensions\n",
      "      self._build_extensions_serial()\n",
      "    File \"D:\\BUZ\\semestr4\\UU\\Workbooks\\venv\\Lib\\site-packages\\setuptools\\_distutils\\command\\build_ext.py\", line 473, in _build_extensions_serial\n",
      "      self.build_extension(ext)\n",
      "    File \"D:\\BUZ\\semestr4\\UU\\Workbooks\\venv\\Lib\\site-packages\\setuptools\\command\\build_ext.py\", line 202, in build_extension\n",
      "      _build_ext.build_extension(self, ext)\n",
      "    File \"D:\\BUZ\\semestr4\\UU\\Workbooks\\venv\\Lib\\site-packages\\setuptools\\_distutils\\command\\build_ext.py\", line 528, in build_extension\n",
      "      objects = self.compiler.compile(sources,\n",
      "                ^^^^^^^^^^^^^^^^^^^^^^^^^^^^^^\n",
      "    File \"D:\\BUZ\\semestr4\\UU\\Workbooks\\venv\\Lib\\site-packages\\setuptools\\_distutils\\_msvccompiler.py\", line 327, in compile\n",
      "      self.initialize()\n",
      "    File \"D:\\BUZ\\semestr4\\UU\\Workbooks\\venv\\Lib\\site-packages\\setuptools\\_distutils\\_msvccompiler.py\", line 224, in initialize\n",
      "      vc_env = _get_vc_env(plat_spec)\n",
      "               ^^^^^^^^^^^^^^^^^^^^^^\n",
      "    File \"D:\\BUZ\\semestr4\\UU\\Workbooks\\venv\\Lib\\site-packages\\setuptools\\msvc.py\", line 316, in msvc14_get_vc_env\n",
      "      return _msvc14_get_vc_env(plat_spec)\n",
      "             ^^^^^^^^^^^^^^^^^^^^^^^^^^^^^\n",
      "    File \"D:\\BUZ\\semestr4\\UU\\Workbooks\\venv\\Lib\\site-packages\\setuptools\\msvc.py\", line 270, in _msvc14_get_vc_env\n",
      "      raise distutils.errors.DistutilsPlatformError(\n",
      "  setuptools._distutils.errors.DistutilsPlatformError: Microsoft Visual C++ 14.0 or greater is required. Get it with \"Microsoft C++ Build Tools\": https://visualstudio.microsoft.com/visual-cpp-build-tools/\n",
      "  ----------------------------------------\n",
      "  ERROR: Failed building wheel for frozendict\n",
      "  DEPRECATION: frozendict was installed using the legacy 'setup.py install' method, because a wheel could not be built for it. A possible replacement is to fix the wheel build issue reported above. Discussion can be found at https://github.com/pypa/pip/issues/8368\n",
      "WARNING: You are using pip version 21.3.1; however, version 23.0.1 is available.\n",
      "You should consider upgrading via the 'D:\\BUZ\\semestr4\\UU\\Workbooks\\venv\\Scripts\\python.exe -m pip install --upgrade pip' command.\n"
     ]
    }
   ],
   "source": [
    "!pip install yfinance"
   ]
  },
  {
   "cell_type": "code",
   "execution_count": 13,
   "id": "ec5fc551",
   "metadata": {},
   "outputs": [
    {
     "name": "stdout",
     "output_type": "stream",
     "text": [
      "[*********************100%***********************]  3 of 3 completed\n",
      "\n",
      "3 Failed downloads:\n",
      "- MSFT: No data found for this date range, symbol may be delisted\n",
      "- AAPL: No data found for this date range, symbol may be delisted\n",
      "- GOOGL: No data found for this date range, symbol may be delisted\n",
      "Index(['AAPL', 'GOOGL', 'MSFT'], dtype='object')\n"
     ]
    },
    {
     "data": {
      "image/png": "[encoded data removed]",
      "text/plain": [
       "<Figure size 640x480 with 1 Axes>"
      ]
     },
     "metadata": {},
     "output_type": "display_data"
    }
   ],
   "source": [
    "import yfinance as yf\n",
    "from datetime import datetime\n",
    "\n",
    "df = yf.download([\"GOOGL\", \"AAPL\", \"MSFT\"], start=datetime(2021,1,1), end=datetime(2022,1,1), interval='1mo')\n",
    "data = df[\"Open\"]\n",
    "print(data.columns)\n",
    "plt.grid()\n",
    "plt.plot(data)\n",
    "plt.legend(data.columns)\n",
    "plt.show()"
   ]
  },
  {
   "cell_type": "markdown",
   "id": "12c9fce8",
   "metadata": {
    "id": "lVeip0vqCr48"
   },
   "source": [
    "# 4.3.5 Задание"
   ]
  },
  {
   "cell_type": "code",
   "execution_count": 24,
   "id": "db483673",
   "metadata": {
    "colab": {
     "base_uri": "https://localhost:8080/",
     "height": 677
    },
    "id": "-kXuan-JCzFk",
    "outputId": "4fc84400-d3fb-4b3c-8116-2253e9d8efca"
   },
   "outputs": [
    {
     "name": "stdout",
     "output_type": "stream",
     "text": [
      "10\n",
      "0\n",
      "25\n",
      "1.0\n",
      "22026.465794806718\n",
      "-0.5440211108893698\n",
      "-0.8390715290764524\n",
      "3125\n"
     ]
    }
   ],
   "source": [
    "import math\n",
    "\n",
    "\n",
    "class Calculator:\n",
    "    \n",
    "    def add(self, x, y):\n",
    "        return x + y\n",
    "    \n",
    "    def diff(self, x, y):\n",
    "        return x - y\n",
    "    \n",
    "    def prod(self, x, y):\n",
    "        return x * y\n",
    "    \n",
    "    def div(self, x, y):\n",
    "        return x / y\n",
    "    \n",
    "    def exp_sum(self, x, y):\n",
    "        return math.exp(x + y)\n",
    "    \n",
    "    def sin_of_sum(self, x, y):\n",
    "        return math.sin(x + y)\n",
    "    \n",
    "    def cos_of_sum(self, x, y):\n",
    "        return math.cos(x + y)\n",
    "    \n",
    "    def power(self, x, y):\n",
    "        return x ** y\n",
    "\n",
    "calculator = Calculator()\n",
    "x, y = 5, 5\n",
    "print(calculator.add(x, y))\n",
    "print(calculator.diff(x, y))\n",
    "print(calculator.prod(x, y))\n",
    "print(calculator.div(x, y))\n",
    "print(calculator.exp_sum(x, y))\n",
    "print(calculator.sin_of_sum(x, y))\n",
    "print(calculator.cos_of_sum(x, y))\n",
    "print(calculator.power(x, y))"
   ]
  }
 ],
 "metadata": {
  "colab": {
   "provenance": []
  },
  "kernelspec": {
   "display_name": "Python 3 (ipykernel)",
   "language": "python",
   "name": "python3"
  },
  "language_info": {
   "codemirror_mode": {
    "name": "ipython",
    "version": 3
   },
   "file_extension": ".py",
   "mimetype": "text/x-python",
   "name": "python",
   "nbconvert_exporter": "python",
   "pygments_lexer": "ipython3",
   "version": "3.11.2"
  }
 },
 "nbformat": 4,
 "nbformat_minor": 5
}
