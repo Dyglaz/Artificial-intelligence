{
 "cells": [
  {
   "cell_type": "code",
   "execution_count": 1,
   "id": "ee345bc8",
   "metadata": {},
   "outputs": [
    {
     "name": "stdout",
     "output_type": "stream",
     "text": [
      "True | <class 'bool'> \n",
      " {8, 1, 3, 7} | <class 'set'> \n",
      " {'apple', 2, 10, 5} | <class 'set'> \n",
      " set() | <class 'set'> \n",
      " ('Антонова Антонина', 34, 'ж') | <class 'tuple'> \n",
      " type | <class 'str'> \n",
      " [1, 'title', 2, 'content'] | <class 'list'> \n",
      "\n"
     ]
    }
   ],
   "source": [
    "#Задание 1.3\n",
    "\n",
    "x = 5>= 2\n",
    "A = {1,3,7,8}\n",
    "B = {2,5,10, \"apple\"}\n",
    "C = A & B\n",
    "df = 'Антонова Антонина', 34, 'ж'\n",
    "Z = 'type'\n",
    "D = [1, 'title', 2 , 'content']\n",
    "print(x, '|', type(x),\"\\n\", A, '|', type(A), \"\\n\", B, '|', type(B), \"\\n\", C, '|', type(C), \"\\n\", df, '|', type(df), \"\\n\", Z, '|', type(Z), \"\\n\", D, '|', type(D), \"\\n\", )"
   ]
  },
  {
   "cell_type": "code",
   "execution_count": 3,
   "id": "04615db0",
   "metadata": {},
   "outputs": [
    {
     "name": "stdout",
     "output_type": "stream",
     "text": [
      "-5\n",
      "x принадлежит [-5, 5]\n"
     ]
    }
   ],
   "source": [
    "#Задание 2.3\n",
    "\n",
    "x = int(input())\n",
    "if  x  < -5:\n",
    "    print(\"x принадлежит (-infinity, -5)\")\n",
    "elif -5<=x<= 5:\n",
    "    print(\"x принадлежит [-5, 5]\")\n",
    "else:\n",
    "    print(\"x принадлежит (5, +infinity)\")"
   ]
  },
  {
   "cell_type": "code",
   "execution_count": 4,
   "id": "34823f40",
   "metadata": {},
   "outputs": [
    {
     "name": "stdout",
     "output_type": "stream",
     "text": [
      "10\n",
      "7\n",
      "4\n",
      "1\n"
     ]
    }
   ],
   "source": [
    "#Задание 3.3.1\n",
    "\n",
    "x = 10\n",
    "\n",
    "while x >= 1:\n",
    "    print(x)\n",
    "    x-=3"
   ]
  },
  {
   "cell_type": "code",
   "execution_count": 5,
   "id": "b6fb9aa4",
   "metadata": {},
   "outputs": [
    {
     "name": "stdout",
     "output_type": "stream",
     "text": [
      "ИМЯ\n",
      "ФАМИЛИЯ\n",
      "ОТЧЕСТВО\n",
      "ДАТА РОЖДЕНИЯ\n",
      "ГОРОД\n"
     ]
    }
   ],
   "source": [
    "#Задание 3.3.2\n",
    "\n",
    "human = ['ИМЯ', 'ФАМИЛИЯ', 'ОТЧЕСТВО', 'ДАТА РОЖДЕНИЯ', 'ГОРОД']\n",
    "for i in human:\n",
    "    print(i)"
   ]
  },
  {
   "cell_type": "code",
   "execution_count": 6,
   "id": "b3c0bb4d",
   "metadata": {},
   "outputs": [
    {
     "name": "stdout",
     "output_type": "stream",
     "text": [
      "[2, 3, 4, 5, 6, 7, 8, 9, 10, 11, 12, 13, 14, 15]\n"
     ]
    }
   ],
   "source": [
    "#Задание 3.3.3\n",
    "\n",
    "x = range(2,16)\n",
    "print(list(x))"
   ]
  },
  {
   "cell_type": "code",
   "execution_count": 7,
   "id": "4d40558c",
   "metadata": {},
   "outputs": [
    {
     "name": "stdout",
     "output_type": "stream",
     "text": [
      "105\n",
      "80\n",
      "55\n",
      "30\n",
      "5\n"
     ]
    }
   ],
   "source": [
    "#Задание 3.3.4\n",
    "\n",
    "for i in range(105, 4, -25):\n",
    "    print(i)"
   ]
  },
  {
   "cell_type": "code",
   "execution_count": 8,
   "id": "3b5c2142",
   "metadata": {},
   "outputs": [
    {
     "name": "stdout",
     "output_type": "stream",
     "text": [
      "[8, 1, 6, 3, 4, 5, 2, 7, 0, 9]\n"
     ]
    }
   ],
   "source": [
    "#Задание 3.3.5\n",
    "\n",
    "x = [0 , 1, 2, 3, 4, 5, 6, 7, 8, 9]\n",
    "x[0::2] = reversed(x[0::2])\n",
    "print(x)"
   ]
  },
  {
   "cell_type": "code",
   "execution_count": 9,
   "id": "52d758c4",
   "metadata": {},
   "outputs": [
    {
     "name": "stdout",
     "output_type": "stream",
     "text": [
      "Массив:  [0.7784691898919122, 0.8790576112176953, 0.6182522203792052, 0.8283851290590958, 0.23418392063674032, 0.9912613776652647, 0.8231997946024466, 0.36782540956280485, 0.5992450706642007, 0.5014025479029073, 0.053667692926988364, 0.7503202277313196]\n",
      "\n",
      "Сорт. массив: [0.053667692926988364, 0.23418392063674032, 0.36782540956280485, 0.5014025479029073, 0.5992450706642007, 0.6182522203792052, 0.7503202277313196, 0.7784691898919122, 0.8231997946024466, 0.8283851290590958, 0.8790576112176953, 0.9912613776652647]\n",
      "\n",
      "Среднее арифметическое: 0.6187725160200485\n",
      "\n",
      "Медианное значение:  0.6842862240552624\n"
     ]
    },
    {
     "data": {
      "text/plain": [
       "<Figure size 720x504 with 0 Axes>"
      ]
     },
     "metadata": {},
     "output_type": "display_data"
    },
    {
     "data": {
      "text/plain": [
       "<matplotlib.collections.PathCollection at 0xa9dfb80>"
      ]
     },
     "execution_count": 9,
     "metadata": {},
     "output_type": "execute_result"
    },
    {
     "data": {
      "image/png": "[encoded data removed]",
      "text/plain": [
       "<Figure size 432x288 with 1 Axes>"
      ]
     },
     "metadata": {
      "needs_background": "light"
     },
     "output_type": "display_data"
    }
   ],
   "source": [
    "#Задание 4.3.1\n",
    "\n",
    "import random\n",
    "from statistics import mean\n",
    "from matplotlib import pyplot as plt\n",
    "\n",
    "x= [random.uniform(0, 1) for i in range(12)]\n",
    "print(\"Массив: \", x)\n",
    "x.sort()\n",
    "print(\"\\nСорт. массив:\", x)\n",
    "print(\"\\nСреднее арифметическое:\", mean(x))\n",
    "print(\"\\nМедианное значение: \", (x[5]+x[6])/2)\n",
    "y = [i for i in range(12)] \n",
    "fig = plt.figure(figsize=(10,7))\n",
    "plt.show()\n",
    "plt.grid()\n",
    "plt.scatter(y, x)"
   ]
  },
  {
   "cell_type": "code",
   "execution_count": 10,
   "id": "63ad5dfd",
   "metadata": {},
   "outputs": [
    {
     "data": {
      "image/png": "[encoded data removed]",
      "text/plain": [
       "<Figure size 432x288 with 1 Axes>"
      ]
     },
     "metadata": {
      "needs_background": "light"
     },
     "output_type": "display_data"
    }
   ],
   "source": [
    "#Задание 4.3.2\n",
    "\n",
    "import math\n",
    "from matplotlib import pyplot as plt\n",
    "x = [i for i in range(1,11)]\n",
    "y = [((math.sqrt(1+math.exp(i)) + pow(math.cos(i), 2))/(1-pow(math.sin(i), 3))) + abs(math.log(2*i)) for i in range(1,11)]\n",
    "x1 = x[0:5:]\n",
    "x2 = x[5:10:]\n",
    "y1 = y[0:5:]\n",
    "y2 = y[5:10:]\n",
    "plt.scatter(x1,y1)\n",
    "plt.plot(x,y)\n",
    "plt.show()"
   ]
  },
  {
   "cell_type": "code",
   "execution_count": 11,
   "id": "d065bf1c",
   "metadata": {},
   "outputs": [
    {
     "name": "stdout",
     "output_type": "stream",
     "text": [
      "6.260345875494747\n"
     ]
    },
    {
     "data": {
      "image/png": "[encoded data removed]",
      "text/plain": [
       "<Figure size 432x288 with 1 Axes>"
      ]
     },
     "metadata": {
      "needs_background": "light"
     },
     "output_type": "display_data"
    }
   ],
   "source": [
    "#Задание 4.3.3\n",
    "\n",
    "import math\n",
    "from matplotlib import pyplot as plt\n",
    "from scipy.integrate import simps\n",
    "from numpy import trapz\n",
    "x = [i for i in range(1,11)]\n",
    "y = [abs(math.cos(i*math.exp(math.cos(i)+math.log1p(i)))) for i in range(0,10)]\n",
    "plt.grid()\n",
    "plt.plot(x,y)\n",
    "plt.fill_between(x,y)\n",
    "area = trapz(y)\n",
    "print(area)"
   ]
  },
  {
   "cell_type": "code",
   "execution_count": 12,
   "id": "c0b88d2b",
   "metadata": {},
   "outputs": [
    {
     "data": {
      "image/png": "[encoded data removed]",
      "text/plain": [
       "<Figure size 432x288 with 1 Axes>"
      ]
     },
     "metadata": {
      "needs_background": "light"
     },
     "output_type": "display_data"
    },
    {
     "name": "stdout",
     "output_type": "stream",
     "text": [
      "Red - Apple\n",
      "Green - Microsoft\n",
      "Blue - Google\n"
     ]
    }
   ],
   "source": [
    "#Задание 4.3.4\n",
    "\n",
    "import math\n",
    "from matplotlib import pyplot as plt\n",
    "x = [i for i in range(1,13)]\n",
    "apple = [131.96, 121.26, 122.15, 131.46, 124.61, 136.96, 145.86, 151.83, 141.50, 149.80, 165.30, 177.57]\n",
    "microsoft = [231.96, 232.38, 235.77, 252.18, 249.68, 270.90, 284.91, 301.88, 281.92, 331.62, 330.59, 336.32]\n",
    "google = [91.79, 101.84, 103.43, 120.51, 120.58, 125.32, 135.22, 145.46, 133.27, 148.27, 142.45, 144.68]\n",
    "plt.plot(x, apple, c='r')\n",
    "plt.plot(x, microsoft, c='g')\n",
    "plt.plot(x, google, c='b')\n",
    "plt.grid()\n",
    "plt.show()\n",
    "print(\"Red - Apple\\nGreen - Microsoft\\nBlue - Google\")"
   ]
  },
  {
   "cell_type": "code",
   "execution_count": 18,
   "id": "56a2d56f",
   "metadata": {},
   "outputs": [
    {
     "name": "stdout",
     "output_type": "stream",
     "text": [
      "3\n",
      "5\n",
      "5\n",
      "2980.9579870417283\n"
     ]
    }
   ],
   "source": [
    "#Задание 4.3.5\n",
    "\n",
    "import math\n",
    "x = float(input())\n",
    "y = float(input())\n",
    "operation_choose = int(input())\n",
    "operation ={\n",
    "    1: x+y,\n",
    "    2: x-y,\n",
    "    3: x*y,\n",
    "    4: x/y,\n",
    "    5: math.exp(x+y),\n",
    "    6: math.sin(x+y),\n",
    "    7: math.cos(x+y),\n",
    "    8: pow(x,y)\n",
    "    }\n",
    "print(operation.get(operation_choose,'Error)'))"
   ]
  },
  {
   "cell_type": "markdown",
   "id": "bca867f8",
   "metadata": {},
   "source": []
  },
  {
   "cell_type": "code",
   "execution_count": null,
   "id": "4e5e3da1",
   "metadata": {},
   "outputs": [],
   "source": []
  }
 ],
 "metadata": {
  "kernelspec": {
   "display_name": "Python 3 (ipykernel)",
   "language": "python",
   "name": "python3"
  },
  "language_info": {
   "codemirror_mode": {
    "name": "ipython",
    "version": 3
   },
   "file_extension": ".py",
   "mimetype": "text/x-python",
   "name": "python",
   "nbconvert_exporter": "python",
   "pygments_lexer": "ipython3",
   "version": "3.9.13"
  }
 },
 "nbformat": 4,
 "nbformat_minor": 5
}
