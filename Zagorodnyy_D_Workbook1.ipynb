{
 "cells": [
  {
   "cell_type": "markdown",
   "id": "efca97e6",
   "metadata": {
    "id": "efca97e6"
   },
   "source": [
    "# 1.2 Пример "
   ]
  },
  {
   "cell_type": "code",
   "execution_count": null,
   "id": "61624765",
   "metadata": {
    "id": "61624765",
    "outputId": "cfbd48fc-48d1-4ff6-f927-bd67840d22db"
   },
   "outputs": [
    {
     "name": "stdout",
     "output_type": "stream",
     "text": [
      "39.4 | <class 'float'> \n",
      " None | <class 'NoneType'> \n",
      " ('a', 5, 12.345, (2, 'b')) | <class 'tuple'> \n",
      " [['Aнтонова Антонина', 34, 'ж'], ['Борисов Борис', 26, 'м']] | <class 'list'> \n",
      " {1, 2, 'title', 'content'} | <class 'set'>\n"
     ]
    }
   ],
   "source": [
    "x = 3+5.2*7\n",
    "y = None\n",
    "z = 'a', 5, 12.345, (2, 'b')\n",
    "df = [['Aнтонова Антонина', 34 , 'ж'], ['Борисов Борис', 26, 'м']]\n",
    "A = {1, 'title', 2, 'content'}\n",
    "print (x, '|', type(x), '\\n', y, '|', type(y), '\\n',\n",
    "      z, '|', type(z), '\\n', df, '|', type(df), '\\n', A, '|', type(A))"
   ]
  },
  {
   "cell_type": "markdown",
   "id": "2405c2ef",
   "metadata": {
    "id": "2405c2ef"
   },
   "source": [
    "# 1.3 Задание"
   ]
  },
  {
   "cell_type": "code",
   "execution_count": null,
   "id": "36d8e781",
   "metadata": {
    "id": "36d8e781",
    "outputId": "7c12f690-a49a-4572-f125-924a43f1b260"
   },
   "outputs": [
    {
     "name": "stdout",
     "output_type": "stream",
     "text": [
      "True | <class 'bool'> \n",
      " {8, 1, 3, 7} | <class 'set'> \n",
      " {2, 4, 5, 10, 'apple'} | <class 'set'> \n",
      " set() | <class 'set'> \n",
      " ('Антонова Антонина', 34, 'ж') | <class 'tuple'> \n",
      " type | <class 'str'> \n",
      " [1, 'title', 2, 'content'] | <class 'list'> \n",
      "\n"
     ]
    }
   ],
   "source": [
    "x = 5 >= 2\n",
    "A = {1, 3, 7, 8}\n",
    "B = {2, 4, 5, 10, 'apple'}\n",
    "C = A & B\n",
    "df = 'Антонова Антонина', 34, 'ж'\n",
    "z = 'type'\n",
    "D = [1, 'title', 2, 'content']\n",
    "\n",
    "print(x, '|', type(x), '\\n',\n",
    "      A, '|', type(A), '\\n',\n",
    "      B, '|', type(B), '\\n',\n",
    "      C, '|', type(C), '\\n',\n",
    "      df, '|', type(df), '\\n',\n",
    "      z, '|', type(z), '\\n',\n",
    "      D, '|', type(D), '\\n')"
   ]
  },
  {
   "cell_type": "markdown",
   "id": "17b9cfbf",
   "metadata": {
    "id": "17b9cfbf"
   },
   "source": [
    "# 2.2 Пример"
   ]
  },
  {
   "cell_type": "code",
   "execution_count": null,
   "id": "0080aed8",
   "metadata": {
    "id": "0080aed8",
    "outputId": "d8d83032-7b46-4761-ee1e-74d39ae0effc"
   },
   "outputs": [
    {
     "name": "stdout",
     "output_type": "stream",
     "text": [
      "x положительный\n"
     ]
    }
   ],
   "source": [
    "x = 125\n",
    "if x<0:\n",
    "    print(\"x отрицательный\")\n",
    "elif x==0:\n",
    "    print(\"x равен нулю\")\n",
    "else:\n",
    "    print(\"x положительный\")"
   ]
  },
  {
   "cell_type": "markdown",
   "id": "fda6c68f",
   "metadata": {
    "id": "fda6c68f"
   },
   "source": [
    "# 2.3 Задание"
   ]
  },
  {
   "cell_type": "code",
   "execution_count": null,
   "id": "3d328168",
   "metadata": {
    "id": "3d328168",
    "outputId": "a51e8fbc-116c-4233-ac7d-400a52afea9b"
   },
   "outputs": [
    {
     "name": "stdout",
     "output_type": "stream",
     "text": [
      "899\n",
      "x принеадлежит (5, infinity)\n"
     ]
    }
   ],
   "source": [
    "x = float(input())\n",
    "if (x <-5):\n",
    "    print(\"x принадлежит (-infinity, -5)\")\n",
    "elif (x >= -5) and (x <= 5):\n",
    "    print(\"x принадлежит [-5, 5]\")\n",
    "else:\n",
    "    print(\"x принеадлежит (5, infinity)\")"
   ]
  },
  {
   "cell_type": "markdown",
   "id": "bc487375",
   "metadata": {
    "id": "bc487375"
   },
   "source": [
    "# 3.2.1 Пример"
   ]
  },
  {
   "cell_type": "code",
   "execution_count": null,
   "id": "1064db3d",
   "metadata": {
    "id": "1064db3d",
    "outputId": "ab89a1ad-52bc-4d9e-bc3a-f4c178813cfa"
   },
   "outputs": [
    {
     "name": "stdout",
     "output_type": "stream",
     "text": [
      "1\n",
      "4\n",
      "7\n",
      "10\n"
     ]
    }
   ],
   "source": [
    "x = 1\n",
    "while x <= 10:\n",
    "    print(x)\n",
    "    x += 3"
   ]
  },
  {
   "cell_type": "markdown",
   "id": "BAaHzUgS5Bev",
   "metadata": {
    "id": "BAaHzUgS5Bev"
   },
   "source": [
    "# 3.2.2 Пример"
   ]
  },
  {
   "cell_type": "code",
   "execution_count": 1,
   "id": "Afoq27635RDw",
   "metadata": {
    "colab": {
     "base_uri": "https://localhost:8080/"
    },
    "id": "Afoq27635RDw",
    "outputId": "73e099bb-4a69-4572-b65a-bcd4c02588c3"
   },
   "outputs": [
    {
     "name": "stdout",
     "output_type": "stream",
     "text": [
      "KNN\n",
      "decision free\n",
      "linear model\n"
     ]
    }
   ],
   "source": [
    "models = ['KNN', 'decision free', 'linear model']\n",
    "for model in models:\n",
    "  print(model)"
   ]
  },
  {
   "cell_type": "markdown",
   "id": "plSqIAiP5mDz",
   "metadata": {
    "id": "plSqIAiP5mDz"
   },
   "source": [
    "# 3.2.3 Пример"
   ]
  },
  {
   "cell_type": "code",
   "execution_count": 2,
   "id": "9DBKHxOc6O3i",
   "metadata": {
    "colab": {
     "base_uri": "https://localhost:8080/"
    },
    "id": "9DBKHxOc6O3i",
    "outputId": "70537145-9b5a-473f-a04a-878aced2a501"
   },
   "outputs": [
    {
     "name": "stdout",
     "output_type": "stream",
     "text": [
      "[1, 8, 15, 22, 29, 36, 43, 50, 57, 64, 71, 78, 85, 92, 99]\n"
     ]
    }
   ],
   "source": [
    "list_int = range(1, 100, 7)\n",
    "print(list(list_int))"
   ]
  },
  {
   "cell_type": "markdown",
   "id": "5v_Rx6vx6XMK",
   "metadata": {
    "id": "5v_Rx6vx6XMK"
   },
   "source": [
    "# 3.2.4 Пример"
   ]
  },
  {
   "cell_type": "code",
   "execution_count": 2,
   "id": "hIG6JafD6b8y",
   "metadata": {
    "colab": {
     "base_uri": "https://localhost:8080/"
    },
    "id": "hIG6JafD6b8y",
    "outputId": "83fab822-bea2-4447-d387-7ea9863331ae"
   },
   "outputs": [
    {
     "name": "stdout",
     "output_type": "stream",
     "text": [
      "5\n",
      "30\n",
      "55\n",
      "80\n",
      "105\n"
     ]
    }
   ],
   "source": [
    "for i in range(5, 106, 25):\n",
    "    print(i)"
   ]
  },
  {
   "cell_type": "markdown",
   "id": "vWLCpL5h6oTU",
   "metadata": {
    "id": "vWLCpL5h6oTU"
   },
   "source": [
    "# 3.2.5 Пример"
   ]
  },
  {
   "cell_type": "code",
   "execution_count": 4,
   "id": "B8sNhzs_6qRM",
   "metadata": {
    "colab": {
     "base_uri": "https://localhost:8080/"
    },
    "id": "B8sNhzs_6qRM",
    "outputId": "c0209383-9d61-4fa1-f6ec-0f726585d1b8"
   },
   "outputs": [
    {
     "name": "stdout",
     "output_type": "stream",
     "text": [
      "[2, 4, 6]\n",
      "[9, 8, 7, 6, 5, 4, 3, 2, 1]\n"
     ]
    }
   ],
   "source": [
    "a = [1, 2, 3, 4, 5, 6, 7, 8, 9]\n",
    "b = a[1:7:2]\n",
    "c = a[::-1]\n",
    "print(b)\n",
    "print(c)"
   ]
  },
  {
   "cell_type": "markdown",
   "id": "20b51e44",
   "metadata": {
    "id": "20b51e44"
   },
   "source": [
    "# 3.3.1 Задание"
   ]
  },
  {
   "cell_type": "code",
   "execution_count": null,
   "id": "48249749",
   "metadata": {
    "id": "48249749",
    "outputId": "607e2e1f-87ee-4041-e980-fa08db416900"
   },
   "outputs": [
    {
     "name": "stdout",
     "output_type": "stream",
     "text": [
      "10\n",
      "7\n",
      "4\n",
      "1\n"
     ]
    }
   ],
   "source": [
    "x = 10\n",
    "while x >= 1:\n",
    "    print(x)\n",
    "    x -= 3"
   ]
  },
  {
   "cell_type": "markdown",
   "id": "51a2491a",
   "metadata": {
    "id": "51a2491a"
   },
   "source": [
    "# 3.3.2 Задание"
   ]
  },
  {
   "cell_type": "code",
   "execution_count": null,
   "id": "e494cac8",
   "metadata": {
    "id": "e494cac8",
    "outputId": "fc1ef605-b67b-4cf5-eee1-a53686206ba8"
   },
   "outputs": [
    {
     "data": {
      "text/plain": [
       "['рост', 'вес', 'пол', 'цвет_глаз']"
      ]
     },
     "execution_count": 14,
     "metadata": {},
     "output_type": "execute_result"
    }
   ],
   "source": [
    "human_traits = ['рост', 'вес', 'пол', 'цвет_глаз']\n",
    "human_traits"
   ]
  },
  {
   "cell_type": "markdown",
   "id": "807abbbc",
   "metadata": {
    "id": "807abbbc"
   },
   "source": [
    "# 3.3.3 Задание"
   ]
  },
  {
   "cell_type": "code",
   "execution_count": null,
   "id": "85d8b262",
   "metadata": {
    "id": "85d8b262",
    "outputId": "4f863148-b332-49e0-b3aa-f4cc2f18fca3"
   },
   "outputs": [
    {
     "data": {
      "text/plain": [
       "[2, 3, 4, 5, 6, 7, 8, 9, 10, 11, 12, 13, 14, 15]"
      ]
     },
     "execution_count": 15,
     "metadata": {},
     "output_type": "execute_result"
    }
   ],
   "source": [
    "lst = list(range(2, 16))\n",
    "lst"
   ]
  },
  {
   "cell_type": "markdown",
   "id": "354fc8ec",
   "metadata": {
    "id": "354fc8ec"
   },
   "source": [
    "# 3.3.4 Задание"
   ]
  },
  {
   "cell_type": "code",
   "execution_count": null,
   "id": "b5c63ba6",
   "metadata": {
    "id": "b5c63ba6",
    "outputId": "1b8d9bdb-67d7-4ac0-dc34-303e7c7ab2e1"
   },
   "outputs": [
    {
     "name": "stdout",
     "output_type": "stream",
     "text": [
      "105\n",
      "80\n",
      "55\n",
      "30\n",
      "5\n"
     ]
    }
   ],
   "source": [
    "for i in range(105, 0, -25):\n",
    "    print(i)"
   ]
  },
  {
   "cell_type": "markdown",
   "id": "4aY8wZMd-rII",
   "metadata": {
    "id": "4aY8wZMd-rII"
   },
   "source": [
    "# 3.3.5 Задание ываываыа"
   ]
  },
  {
   "cell_type": "code",
   "execution_count": 7,
   "id": "pLsUM519-tyF",
   "metadata": {
    "colab": {
     "base_uri": "https://localhost:8080/"
    },
    "id": "pLsUM519-tyF",
    "outputId": "3920f777-cad5-443a-d9bb-db46e9399b2b"
   },
   "outputs": [
    {
     "name": "stdout",
     "output_type": "stream",
     "text": [
      "[8, 1, 6, 3, 4, 5, 2, 7, 0, 9]\n"
     ]
    }
   ],
   "source": [
    "x = [0 , 1, 2, 3, 4, 5, 6, 7, 8, 9]\n",
    "x[0::2] = reversed(x[0::2])\n",
    "print(x)"
   ]
  },
  {
   "cell_type": "markdown",
   "id": "9ncVzgqWBI6B",
   "metadata": {
    "id": "9ncVzgqWBI6B"
   },
   "source": [
    "# 4.2.1 Пример"
   ]
  },
  {
   "cell_type": "code",
   "execution_count": 8,
   "id": "76b1f90e",
   "metadata": {
    "colab": {
     "base_uri": "https://localhost:8080/"
    },
    "id": "76b1f90e",
    "outputId": "ca6de1bd-58cc-4888-e0e2-1238a904007e"
   },
   "outputs": [
    {
     "name": "stdout",
     "output_type": "stream",
     "text": [
      "0.41078129050290885\n"
     ]
    }
   ],
   "source": [
    "import math as m\n",
    "print(m.sin(m.e))"
   ]
  },
  {
   "cell_type": "markdown",
   "id": "UPVMfrhEBya_",
   "metadata": {
    "id": "UPVMfrhEBya_"
   },
   "source": [
    "# 4.2.2 Пример"
   ]
  },
  {
   "cell_type": "code",
   "execution_count": 10,
   "id": "00dwRdczB17I",
   "metadata": {
    "colab": {
     "base_uri": "https://localhost:8080/",
     "height": 283
    },
    "id": "00dwRdczB17I",
    "outputId": "105c6b82-29fa-47a3-8c56-25a2f0a11bc7"
   },
   "outputs": [
    {
     "name": "stdout",
     "output_type": "stream",
     "text": [
      "73.50792907748662\n"
     ]
    },
    {
     "data": {
      "image/png": "[encoded data removed]",
      "text/plain": [
       "<Figure size 432x288 with 1 Axes>"
      ]
     },
     "metadata": {
      "needs_background": "light"
     },
     "output_type": "display_data"
    }
   ],
   "source": [
    "import numpy as np\n",
    "import matplotlib.pyplot as plt\n",
    "from scipy.integrate import simps\n",
    "from numpy import trapz\n",
    "x = np.arange(0.0, 10, 0.1)\n",
    "y = np.abs(np.sin(x*np.exp(np.cos(x))))\n",
    "plt.grid()\n",
    "plt.plot(x, y, c = \"r\")\n",
    "plt.fill_between(x, y)\n",
    "\n",
    "area = trapz(y)\n",
    "print(area)"
   ]
  },
  {
   "cell_type": "markdown",
   "id": "lVeip0vqCr48",
   "metadata": {
    "id": "lVeip0vqCr48"
   },
   "source": [
    "# 4.2.3 Пример"
   ]
  },
  {
   "cell_type": "code",
   "execution_count": 9,
   "id": "-kXuan-JCzFk",
   "metadata": {
    "colab": {
     "base_uri": "https://localhost:8080/",
     "height": 677
    },
    "id": "-kXuan-JCzFk",
    "outputId": "4fc84400-d3fb-4b3c-8116-2253e9d8efca"
   },
   "outputs": [
    {
     "data": {
      "image/png": "[encoded data removed]",
      "text/plain": [
       "<Figure size 1000x700 with 1 Axes>"
      ]
     },
     "metadata": {},
     "output_type": "display_data"
    },
    {
     "data": {
      "text/plain": [
       "<matplotlib.collections.PathCollection at 0x1db07439990>"
      ]
     },
     "execution_count": 9,
     "metadata": {},
     "output_type": "execute_result"
    },
    {
     "data": {
      "image/png": "[encoded data removed]",
      "text/plain": [
       "<Figure size 640x480 with 1 Axes>"
      ]
     },
     "metadata": {},
     "output_type": "display_data"
    }
   ],
   "source": [
    "from matplotlib import pyplot as plt\n",
    "import numpy as np\n",
    "\n",
    "marks = ['Неуд', 'Удовл', 'Хор', 'Отл']\n",
    "\n",
    "data = [3, 7, 8, 4]\n",
    "fig = plt.figure(figsize =(10, 7))\n",
    "plt.pie(data, labels = marks)\n",
    "plt.show()\n",
    "plt.grid()\n",
    "plt.scatter(marks, data)"
   ]
  },
  {
   "cell_type": "code",
   "execution_count": null,
   "id": "da663b2f",
   "metadata": {},
   "outputs": [],
   "source": []
  }
 ],
 "metadata": {
  "colab": {
   "provenance": []
  },
  "kernelspec": {
   "display_name": "Python 3 (ipykernel)",
   "language": "python",
   "name": "python3"
  },
  "language_info": {
   "codemirror_mode": {
    "name": "ipython",
    "version": 3
   },
   "file_extension": ".py",
   "mimetype": "text/x-python",
   "name": "python",
   "nbconvert_exporter": "python",
   "pygments_lexer": "ipython3",
   "version": "3.11.2"
  }
 },
 "nbformat": 4,
 "nbformat_minor": 5
}
