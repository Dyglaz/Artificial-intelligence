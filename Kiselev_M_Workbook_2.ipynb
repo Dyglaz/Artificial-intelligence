{
 "cells": [
  {
   "cell_type": "code",
   "execution_count": 91,
   "id": "056421d4",
   "metadata": {},
   "outputs": [],
   "source": [
    "import numpy as np\n",
    "import pandas as pd\n",
    "from sklearn import preprocessing"
   ]
  },
  {
   "cell_type": "markdown",
   "id": "efca97e6",
   "metadata": {
    "id": "efca97e6"
   },
   "source": [
    "# 1.2.1 Пример "
   ]
  },
  {
   "cell_type": "code",
   "execution_count": 4,
   "id": "61624765",
   "metadata": {
    "id": "61624765",
    "outputId": "cfbd48fc-48d1-4ff6-f927-bd67840d22db"
   },
   "outputs": [
    {
     "name": "stdout",
     "output_type": "stream",
     "text": [
      "[[ 1  2]\n",
      " [ 3  4]\n",
      " [ 5  6]\n",
      " [ 7  8]\n",
      " [ 9 10]]\n",
      "8\n",
      "[ 2  4  6  8 10]\n"
     ]
    }
   ],
   "source": [
    "x = np.array([[1, 2], [3, 4], [5, 6], [7, 8], [9, 10]])\n",
    "print(x)\n",
    "print(x[3][1])\n",
    "print(x[:, 1])"
   ]
  },
  {
   "cell_type": "markdown",
   "id": "2405c2ef",
   "metadata": {
    "id": "2405c2ef"
   },
   "source": [
    "# 1.2.2 Пример"
   ]
  },
  {
   "cell_type": "code",
   "execution_count": 5,
   "id": "36d8e781",
   "metadata": {
    "id": "36d8e781",
    "outputId": "7c12f690-a49a-4572-f125-924a43f1b260"
   },
   "outputs": [
    {
     "name": "stdout",
     "output_type": "stream",
     "text": [
      "[0. 0. 0. 0. 0. 0. 0. 0. 0. 0.]\n",
      "[1. 1. 1. 1. 1. 1. 1. 1. 1. 1.]\n",
      "[5 5 5 5 5 5 5 5 5 5]\n",
      "[10 11 12 13 14 15 16 17 18 19]\n"
     ]
    }
   ],
   "source": [
    "a = np.zeros(10)\n",
    "b = np.ones(10)\n",
    "c = np.full(10, 5)\n",
    "d = np.arange(10, 20)\n",
    "print(a, b, c, d, sep='\\n')"
   ]
  },
  {
   "cell_type": "markdown",
   "id": "17b9cfbf",
   "metadata": {
    "id": "17b9cfbf"
   },
   "source": [
    "# 1.2.3 Пример"
   ]
  },
  {
   "cell_type": "code",
   "execution_count": 6,
   "id": "0080aed8",
   "metadata": {
    "id": "0080aed8",
    "outputId": "d8d83032-7b46-4761-ee1e-74d39ae0effc"
   },
   "outputs": [
    {
     "name": "stdout",
     "output_type": "stream",
     "text": [
      "0.003698422641839949 0.988099151593568 0.46551760544676357\n"
     ]
    }
   ],
   "source": [
    "Z = np.random.random((10, 10))\n",
    "Zmin, Zmax, Zmean = Z.min(), Z.max(), Z.mean()\n",
    "print(Zmin, Zmax, Zmean)"
   ]
  },
  {
   "cell_type": "markdown",
   "id": "fda6c68f",
   "metadata": {
    "id": "fda6c68f"
   },
   "source": [
    "# 1.2.4 Пример"
   ]
  },
  {
   "cell_type": "code",
   "execution_count": 8,
   "id": "3d328168",
   "metadata": {
    "id": "3d328168",
    "outputId": "a51e8fbc-116c-4233-ac7d-400a52afea9b"
   },
   "outputs": [
    {
     "name": "stdout",
     "output_type": "stream",
     "text": [
      "[[ 5  6  7  8  9]\n",
      " [ 0  1  2  3  4]\n",
      " [10 11 12 13 14]\n",
      " [15 16 17 18 19]\n",
      " [20 21 22 23 24]]\n"
     ]
    }
   ],
   "source": [
    "A = np.arange(25).reshape(5, 5)\n",
    "A[[0,1]] = A[[1,0]]\n",
    "print(A)"
   ]
  },
  {
   "cell_type": "markdown",
   "id": "bc487375",
   "metadata": {
    "id": "bc487375"
   },
   "source": [
    "# 1.2.5 Пример"
   ]
  },
  {
   "cell_type": "code",
   "execution_count": 9,
   "id": "1064db3d",
   "metadata": {
    "id": "1064db3d",
    "outputId": "ab89a1ad-52bc-4d9e-bc3a-f4c178813cfa"
   },
   "outputs": [
    {
     "name": "stdout",
     "output_type": "stream",
     "text": [
      "nan\n",
      "False\n",
      "False\n",
      "nan\n",
      "False\n"
     ]
    }
   ],
   "source": [
    "print(0 * np.nan)\n",
    "print(np.nan == np.nan)\n",
    "print(np.inf > np.nan)\n",
    "print(np.nan - np.nan)\n",
    "print(0.3 == 3 * 0.1)"
   ]
  },
  {
   "cell_type": "markdown",
   "id": "BAaHzUgS5Bev",
   "metadata": {
    "id": "BAaHzUgS5Bev"
   },
   "source": [
    "# 1.2.6 Пример"
   ]
  },
  {
   "cell_type": "code",
   "execution_count": 10,
   "id": "Afoq27635RDw",
   "metadata": {
    "colab": {
     "base_uri": "https://localhost:8080/"
    },
    "id": "Afoq27635RDw",
    "outputId": "73e099bb-4a69-4572-b65a-bcd4c02588c3"
   },
   "outputs": [
    {
     "name": "stdout",
     "output_type": "stream",
     "text": [
      "[1 2 3 4 5 6 7 8]\n"
     ]
    }
   ],
   "source": [
    "arr = np.array([2, 1, 5, 3, 7, 4, 6, 8])\n",
    "print(np.sort(arr))"
   ]
  },
  {
   "cell_type": "markdown",
   "id": "plSqIAiP5mDz",
   "metadata": {
    "id": "plSqIAiP5mDz"
   },
   "source": [
    "# 1.3.1 Задание"
   ]
  },
  {
   "cell_type": "code",
   "execution_count": 17,
   "id": "9DBKHxOc6O3i",
   "metadata": {
    "colab": {
     "base_uri": "https://localhost:8080/"
    },
    "id": "9DBKHxOc6O3i",
    "outputId": "70537145-9b5a-473f-a04a-878aced2a501"
   },
   "outputs": [
    {
     "name": "stdout",
     "output_type": "stream",
     "text": [
      "[[1 0 1 0 1 0 1 0]\n",
      " [0 1 0 1 0 1 0 1]\n",
      " [1 0 1 0 1 0 1 0]\n",
      " [0 1 0 1 0 1 0 1]\n",
      " [1 0 1 0 1 0 1 0]\n",
      " [0 1 0 1 0 1 0 1]\n",
      " [1 0 1 0 1 0 1 0]\n",
      " [0 1 0 1 0 1 0 1]]\n"
     ]
    }
   ],
   "source": [
    "A = np.zeros((8, 8), dtype=int)\n",
    "A[1::2, 1::2] = 1\n",
    "A[::2, ::2] = 1\n",
    "print(A)"
   ]
  },
  {
   "cell_type": "markdown",
   "id": "5v_Rx6vx6XMK",
   "metadata": {
    "id": "5v_Rx6vx6XMK"
   },
   "source": [
    "# 1.3.2 Задание"
   ]
  },
  {
   "cell_type": "code",
   "execution_count": 27,
   "id": "hIG6JafD6b8y",
   "metadata": {
    "colab": {
     "base_uri": "https://localhost:8080/"
    },
    "id": "hIG6JafD6b8y",
    "outputId": "83fab822-bea2-4447-d387-7ea9863331ae"
   },
   "outputs": [
    {
     "name": "stdout",
     "output_type": "stream",
     "text": [
      "[[0 1 2 3 4]\n",
      " [0 1 2 3 4]\n",
      " [0 1 2 3 4]\n",
      " [0 1 2 3 4]\n",
      " [0 1 2 3 4]]\n"
     ]
    }
   ],
   "source": [
    "A = np.arange(25).reshape(5, 5) % 5\n",
    "print(A)"
   ]
  },
  {
   "cell_type": "markdown",
   "id": "vWLCpL5h6oTU",
   "metadata": {
    "id": "vWLCpL5h6oTU"
   },
   "source": [
    "# 1.3.3 Задание"
   ]
  },
  {
   "cell_type": "code",
   "execution_count": 29,
   "id": "B8sNhzs_6qRM",
   "metadata": {
    "colab": {
     "base_uri": "https://localhost:8080/"
    },
    "id": "B8sNhzs_6qRM",
    "outputId": "c0209383-9d61-4fa1-f6ec-0f726585d1b8"
   },
   "outputs": [
    {
     "name": "stdout",
     "output_type": "stream",
     "text": [
      "[[[0.7369118  0.85556073 0.06672791]\n",
      "  [0.24559855 0.12114228 0.91049981]\n",
      "  [0.24356566 0.17758326 0.84439923]]\n",
      "\n",
      " [[0.13294899 0.2407808  0.22129498]\n",
      "  [0.70119899 0.7701048  0.34678328]\n",
      "  [0.72362764 0.17137298 0.54407796]]\n",
      "\n",
      " [[0.90352602 0.22203975 0.10229251]\n",
      "  [0.97375833 0.51423778 0.79587331]\n",
      "  [0.87490027 0.77815714 0.30032417]]]\n"
     ]
    }
   ],
   "source": [
    "A = np.random.random((3, 3, 3))\n",
    "print(A)"
   ]
  },
  {
   "cell_type": "markdown",
   "id": "20b51e44",
   "metadata": {
    "id": "20b51e44"
   },
   "source": [
    "# 1.3.4 Задание"
   ]
  },
  {
   "cell_type": "code",
   "execution_count": 32,
   "id": "48249749",
   "metadata": {
    "id": "48249749",
    "outputId": "607e2e1f-87ee-4041-e980-fa08db416900"
   },
   "outputs": [
    {
     "name": "stdout",
     "output_type": "stream",
     "text": [
      "[[1 1 1 1 1]\n",
      " [1 0 0 0 1]\n",
      " [1 0 0 0 1]\n",
      " [1 0 0 0 1]\n",
      " [1 1 1 1 1]]\n"
     ]
    }
   ],
   "source": [
    "A = np.ones((5, 5), dtype=int)\n",
    "A[1:-1:, 1:-1:] = 0\n",
    "print(A)"
   ]
  },
  {
   "cell_type": "markdown",
   "id": "51a2491a",
   "metadata": {
    "id": "51a2491a"
   },
   "source": [
    "# 1.3.5 Задание"
   ]
  },
  {
   "cell_type": "code",
   "execution_count": 37,
   "id": "e494cac8",
   "metadata": {
    "id": "e494cac8",
    "outputId": "fc1ef605-b67b-4cf5-eee1-a53686206ba8"
   },
   "outputs": [
    {
     "name": "stdout",
     "output_type": "stream",
     "text": [
      "[19 18 17 16 15 14 13 12 11 10  9  8  7  6  5  4  3  2  1  0]\n"
     ]
    }
   ],
   "source": [
    "A = np.arange(20)\n",
    "A[::-1].sort()\n",
    "print(A)"
   ]
  },
  {
   "cell_type": "markdown",
   "id": "807abbbc",
   "metadata": {
    "id": "807abbbc"
   },
   "source": [
    "# 1.3.6 Задание"
   ]
  },
  {
   "cell_type": "code",
   "execution_count": 44,
   "id": "85d8b262",
   "metadata": {
    "id": "85d8b262",
    "outputId": "4f863148-b332-49e0-b3aa-f4cc2f18fca3"
   },
   "outputs": [
    {
     "name": "stdout",
     "output_type": "stream",
     "text": [
      "(4, 3, 2) 24 3\n"
     ]
    }
   ],
   "source": [
    "A = np.arange(24).reshape(4, 3, 2)\n",
    "print(A.shape, A.size, A.ndim)"
   ]
  },
  {
   "cell_type": "markdown",
   "id": "354fc8ec",
   "metadata": {
    "id": "354fc8ec"
   },
   "source": [
    "# 2.2.1 Пример"
   ]
  },
  {
   "cell_type": "code",
   "execution_count": 53,
   "id": "b5c63ba6",
   "metadata": {
    "id": "b5c63ba6",
    "outputId": "1b8d9bdb-67d7-4ac0-dc34-303e7c7ab2e1"
   },
   "outputs": [
    {
     "name": "stdout",
     "output_type": "stream",
     "text": [
      "0    1\n",
      "1    2\n",
      "2    3\n",
      "3    4\n",
      "4    5\n",
      "dtype: int64\n",
      "a    1\n",
      "b    2\n",
      "c    3\n",
      "dtype: int64\n",
      "a    1\n",
      "b    2\n",
      "c    3\n",
      "d    4\n",
      "e    5\n",
      "dtype: int32\n"
     ]
    }
   ],
   "source": [
    "lst = [1, 2, 3, 4, 5]\n",
    "d = {'a':1, 'b':2, 'c':3}\n",
    "ndarr = np.array([1, 2, 3, 4, 5])\n",
    "\n",
    "s1 = pd.Series(lst)\n",
    "s2 = pd.Series(d)\n",
    "s3 = pd.Series(ndarr, ['a', 'b', 'c', 'd', 'e'])\n",
    "\n",
    "print(s1, s2, s3, sep='\\n')"
   ]
  },
  {
   "cell_type": "markdown",
   "id": "4aY8wZMd-rII",
   "metadata": {
    "id": "4aY8wZMd-rII"
   },
   "source": [
    "# 2.2.2 Пример"
   ]
  },
  {
   "cell_type": "code",
   "execution_count": 54,
   "id": "pLsUM519-tyF",
   "metadata": {
    "colab": {
     "base_uri": "https://localhost:8080/"
    },
    "id": "pLsUM519-tyF",
    "outputId": "3920f777-cad5-443a-d9bb-db46e9399b2b"
   },
   "outputs": [
    {
     "name": "stdout",
     "output_type": "stream",
     "text": [
      "1\n",
      "5\n",
      "3    2\n",
      "4    1\n",
      "dtype: int64\n"
     ]
    }
   ],
   "source": [
    "s1 = pd.Series([1, 2, 3, 4, 5], ['a', 'b', 'c', 'd', 'e'])\n",
    "s2 = pd.Series([5, 4, 3, 2, 1])\n",
    "print(s1['a'])\n",
    "print(s2[0])\n",
    "print(s2[3:])"
   ]
  },
  {
   "cell_type": "markdown",
   "id": "9ncVzgqWBI6B",
   "metadata": {
    "id": "9ncVzgqWBI6B"
   },
   "source": [
    "# 2.2.3 Пример"
   ]
  },
  {
   "cell_type": "code",
   "execution_count": 56,
   "id": "76b1f90e",
   "metadata": {
    "colab": {
     "base_uri": "https://localhost:8080/"
    },
    "id": "76b1f90e",
    "outputId": "ca6de1bd-58cc-4888-e0e2-1238a904007e"
   },
   "outputs": [
    {
     "data": {
      "text/html": [
       "<div>\n",
       "<style scoped>\n",
       "    .dataframe tbody tr th:only-of-type {\n",
       "        vertical-align: middle;\n",
       "    }\n",
       "\n",
       "    .dataframe tbody tr th {\n",
       "        vertical-align: top;\n",
       "    }\n",
       "\n",
       "    .dataframe thead th {\n",
       "        text-align: right;\n",
       "    }\n",
       "</style>\n",
       "<table border=\"1\" class=\"dataframe\">\n",
       "  <thead>\n",
       "    <tr style=\"text-align: right;\">\n",
       "      <th></th>\n",
       "      <th>Имя</th>\n",
       "      <th>Возраст</th>\n",
       "      <th>Водитель</th>\n",
       "    </tr>\n",
       "  </thead>\n",
       "  <tbody>\n",
       "    <tr>\n",
       "      <th>0</th>\n",
       "      <td>Джеки Джексон</td>\n",
       "      <td>38</td>\n",
       "      <td>True</td>\n",
       "    </tr>\n",
       "    <tr>\n",
       "      <th>1</th>\n",
       "      <td>Стивен Стивенсон</td>\n",
       "      <td>25</td>\n",
       "      <td>False</td>\n",
       "    </tr>\n",
       "  </tbody>\n",
       "</table>\n",
       "</div>"
      ],
      "text/plain": [
       "                Имя  Возраст  Водитель\n",
       "0     Джеки Джексон       38      True\n",
       "1  Стивен Стивенсон       25     False"
      ]
     },
     "execution_count": 56,
     "metadata": {},
     "output_type": "execute_result"
    }
   ],
   "source": [
    "dataframe = pd.DataFrame()\n",
    "dataframe['Имя'] = ['Джеки Джексон', 'Стивен Стивенсон']\n",
    "dataframe['Возраст'] = [38, 25]\n",
    "dataframe['Водитель'] = [True, False]\n",
    "dataframe"
   ]
  },
  {
   "cell_type": "markdown",
   "id": "UPVMfrhEBya_",
   "metadata": {
    "id": "UPVMfrhEBya_"
   },
   "source": [
    "# 2.2.4 Пример"
   ]
  },
  {
   "cell_type": "code",
   "execution_count": 57,
   "id": "00dwRdczB17I",
   "metadata": {
    "colab": {
     "base_uri": "https://localhost:8080/",
     "height": 283
    },
    "id": "00dwRdczB17I",
    "outputId": "105c6b82-29fa-47a3-8c56-25a2f0a11bc7"
   },
   "outputs": [
    {
     "data": {
      "text/html": [
       "<div>\n",
       "<style scoped>\n",
       "    .dataframe tbody tr th:only-of-type {\n",
       "        vertical-align: middle;\n",
       "    }\n",
       "\n",
       "    .dataframe tbody tr th {\n",
       "        vertical-align: top;\n",
       "    }\n",
       "\n",
       "    .dataframe thead th {\n",
       "        text-align: right;\n",
       "    }\n",
       "</style>\n",
       "<table border=\"1\" class=\"dataframe\">\n",
       "  <thead>\n",
       "    <tr style=\"text-align: right;\">\n",
       "      <th></th>\n",
       "      <th>Name</th>\n",
       "      <th>PClass</th>\n",
       "      <th>Age</th>\n",
       "      <th>Sex</th>\n",
       "      <th>Survived</th>\n",
       "      <th>SexCode</th>\n",
       "    </tr>\n",
       "  </thead>\n",
       "  <tbody>\n",
       "    <tr>\n",
       "      <th>0</th>\n",
       "      <td>Allen, Miss Elisabeth Walton</td>\n",
       "      <td>1st</td>\n",
       "      <td>29.00</td>\n",
       "      <td>female</td>\n",
       "      <td>1</td>\n",
       "      <td>1</td>\n",
       "    </tr>\n",
       "    <tr>\n",
       "      <th>1</th>\n",
       "      <td>Allison, Miss Helen Loraine</td>\n",
       "      <td>1st</td>\n",
       "      <td>2.00</td>\n",
       "      <td>female</td>\n",
       "      <td>0</td>\n",
       "      <td>1</td>\n",
       "    </tr>\n",
       "    <tr>\n",
       "      <th>2</th>\n",
       "      <td>Allison, Mr Hudson Joshua Creighton</td>\n",
       "      <td>1st</td>\n",
       "      <td>30.00</td>\n",
       "      <td>male</td>\n",
       "      <td>0</td>\n",
       "      <td>0</td>\n",
       "    </tr>\n",
       "    <tr>\n",
       "      <th>3</th>\n",
       "      <td>Allison, Mrs Hudson JC (Bessie Waldo Daniels)</td>\n",
       "      <td>1st</td>\n",
       "      <td>25.00</td>\n",
       "      <td>female</td>\n",
       "      <td>0</td>\n",
       "      <td>1</td>\n",
       "    </tr>\n",
       "    <tr>\n",
       "      <th>4</th>\n",
       "      <td>Allison, Master Hudson Trevor</td>\n",
       "      <td>1st</td>\n",
       "      <td>0.92</td>\n",
       "      <td>male</td>\n",
       "      <td>1</td>\n",
       "      <td>0</td>\n",
       "    </tr>\n",
       "  </tbody>\n",
       "</table>\n",
       "</div>"
      ],
      "text/plain": [
       "                                            Name PClass    Age     Sex  \\\n",
       "0                   Allen, Miss Elisabeth Walton    1st  29.00  female   \n",
       "1                    Allison, Miss Helen Loraine    1st   2.00  female   \n",
       "2            Allison, Mr Hudson Joshua Creighton    1st  30.00    male   \n",
       "3  Allison, Mrs Hudson JC (Bessie Waldo Daniels)    1st  25.00  female   \n",
       "4                  Allison, Master Hudson Trevor    1st   0.92    male   \n",
       "\n",
       "   Survived  SexCode  \n",
       "0         1        1  \n",
       "1         0        1  \n",
       "2         0        0  \n",
       "3         0        1  \n",
       "4         1        0  "
      ]
     },
     "execution_count": 57,
     "metadata": {},
     "output_type": "execute_result"
    }
   ],
   "source": [
    "url = \"https://raw.githubusercontent.com/chrisalbon/simulated_datasets/master/titanic.csv\"\n",
    "dataframe = pd.read_csv(url)\n",
    "dataframe.head(5)"
   ]
  },
  {
   "cell_type": "markdown",
   "id": "lVeip0vqCr48",
   "metadata": {
    "id": "lVeip0vqCr48"
   },
   "source": [
    "# 2.2.5 Пример"
   ]
  },
  {
   "cell_type": "code",
   "execution_count": 61,
   "id": "-kXuan-JCzFk",
   "metadata": {
    "colab": {
     "base_uri": "https://localhost:8080/",
     "height": 677
    },
    "id": "-kXuan-JCzFk",
    "outputId": "4fc84400-d3fb-4b3c-8116-2253e9d8efca"
   },
   "outputs": [
    {
     "name": "stdout",
     "output_type": "stream",
     "text": [
      "                           Name PClass   Age     Sex  Survived  SexCode\n",
      "0  Allen, Miss Elisabeth Walton    1st  29.0  female         1        1\n",
      "1   Allison, Miss Helen Loraine    1st   2.0  female         0        1\n",
      "                  Name PClass   Age   Sex  Survived  SexCode\n",
      "1310  Zenni, Mr Philip    3rd  22.0  male         0        0\n",
      "1311  Lievens, Mr Rene    3rd  24.0  male         0        0\n",
      "1312    Zimmerman, Leo    3rd  29.0  male         0        0\n",
      "(1313, 6)\n",
      "              Age     Survived      SexCode\n",
      "count  756.000000  1313.000000  1313.000000\n",
      "mean    30.397989     0.342727     0.351866\n",
      "std     14.259049     0.474802     0.477734\n",
      "min      0.170000     0.000000     0.000000\n",
      "25%     21.000000     0.000000     0.000000\n",
      "50%     28.000000     0.000000     0.000000\n",
      "75%     39.000000     1.000000     1.000000\n",
      "max     71.000000     1.000000     1.000000\n"
     ]
    }
   ],
   "source": [
    "print(dataframe.head(2))\n",
    "print(dataframe.tail(3))\n",
    "print(dataframe.shape)\n",
    "print(dataframe.describe())"
   ]
  },
  {
   "cell_type": "markdown",
   "id": "37eae7f3",
   "metadata": {
    "id": "lVeip0vqCr48"
   },
   "source": [
    "# 2.2.6 Пример"
   ]
  },
  {
   "cell_type": "code",
   "execution_count": 62,
   "id": "54228efe",
   "metadata": {
    "colab": {
     "base_uri": "https://localhost:8080/",
     "height": 677
    },
    "id": "-kXuan-JCzFk",
    "outputId": "4fc84400-d3fb-4b3c-8116-2253e9d8efca"
   },
   "outputs": [
    {
     "data": {
      "text/html": [
       "<div>\n",
       "<style scoped>\n",
       "    .dataframe tbody tr th:only-of-type {\n",
       "        vertical-align: middle;\n",
       "    }\n",
       "\n",
       "    .dataframe tbody tr th {\n",
       "        vertical-align: top;\n",
       "    }\n",
       "\n",
       "    .dataframe thead th {\n",
       "        text-align: right;\n",
       "    }\n",
       "</style>\n",
       "<table border=\"1\" class=\"dataframe\">\n",
       "  <thead>\n",
       "    <tr style=\"text-align: right;\">\n",
       "      <th></th>\n",
       "      <th>Name</th>\n",
       "      <th>PClass</th>\n",
       "      <th>Age</th>\n",
       "      <th>Sex</th>\n",
       "      <th>Survived</th>\n",
       "      <th>SexCode</th>\n",
       "    </tr>\n",
       "  </thead>\n",
       "  <tbody>\n",
       "    <tr>\n",
       "      <th>1</th>\n",
       "      <td>Allison, Miss Helen Loraine</td>\n",
       "      <td>1st</td>\n",
       "      <td>2.0</td>\n",
       "      <td>female</td>\n",
       "      <td>0</td>\n",
       "      <td>1</td>\n",
       "    </tr>\n",
       "    <tr>\n",
       "      <th>2</th>\n",
       "      <td>Allison, Mr Hudson Joshua Creighton</td>\n",
       "      <td>1st</td>\n",
       "      <td>30.0</td>\n",
       "      <td>male</td>\n",
       "      <td>0</td>\n",
       "      <td>0</td>\n",
       "    </tr>\n",
       "    <tr>\n",
       "      <th>3</th>\n",
       "      <td>Allison, Mrs Hudson JC (Bessie Waldo Daniels)</td>\n",
       "      <td>1st</td>\n",
       "      <td>25.0</td>\n",
       "      <td>female</td>\n",
       "      <td>0</td>\n",
       "      <td>1</td>\n",
       "    </tr>\n",
       "  </tbody>\n",
       "</table>\n",
       "</div>"
      ],
      "text/plain": [
       "                                            Name PClass   Age     Sex  \\\n",
       "1                    Allison, Miss Helen Loraine    1st   2.0  female   \n",
       "2            Allison, Mr Hudson Joshua Creighton    1st  30.0    male   \n",
       "3  Allison, Mrs Hudson JC (Bessie Waldo Daniels)    1st  25.0  female   \n",
       "\n",
       "   Survived  SexCode  \n",
       "1         0        1  \n",
       "2         0        0  \n",
       "3         0        1  "
      ]
     },
     "execution_count": 62,
     "metadata": {},
     "output_type": "execute_result"
    }
   ],
   "source": [
    "dataframe.iloc[1:4]"
   ]
  },
  {
   "cell_type": "markdown",
   "id": "249a54bc",
   "metadata": {
    "id": "lVeip0vqCr48"
   },
   "source": [
    "# 2.2.7 Пример"
   ]
  },
  {
   "cell_type": "code",
   "execution_count": 63,
   "id": "4bd43ea3",
   "metadata": {
    "colab": {
     "base_uri": "https://localhost:8080/",
     "height": 677
    },
    "id": "-kXuan-JCzFk",
    "outputId": "4fc84400-d3fb-4b3c-8116-2253e9d8efca"
   },
   "outputs": [
    {
     "data": {
      "text/html": [
       "<div>\n",
       "<style scoped>\n",
       "    .dataframe tbody tr th:only-of-type {\n",
       "        vertical-align: middle;\n",
       "    }\n",
       "\n",
       "    .dataframe tbody tr th {\n",
       "        vertical-align: top;\n",
       "    }\n",
       "\n",
       "    .dataframe thead th {\n",
       "        text-align: right;\n",
       "    }\n",
       "</style>\n",
       "<table border=\"1\" class=\"dataframe\">\n",
       "  <thead>\n",
       "    <tr style=\"text-align: right;\">\n",
       "      <th></th>\n",
       "      <th>Name</th>\n",
       "      <th>PClass</th>\n",
       "      <th>Age</th>\n",
       "      <th>Sex</th>\n",
       "      <th>Survived</th>\n",
       "      <th>SexCode</th>\n",
       "    </tr>\n",
       "  </thead>\n",
       "  <tbody>\n",
       "    <tr>\n",
       "      <th>0</th>\n",
       "      <td>Allen, Miss Elisabeth Walton</td>\n",
       "      <td>1st</td>\n",
       "      <td>29.0</td>\n",
       "      <td>female</td>\n",
       "      <td>1</td>\n",
       "      <td>1</td>\n",
       "    </tr>\n",
       "    <tr>\n",
       "      <th>1</th>\n",
       "      <td>Allison, Miss Helen Loraine</td>\n",
       "      <td>1st</td>\n",
       "      <td>2.0</td>\n",
       "      <td>female</td>\n",
       "      <td>0</td>\n",
       "      <td>1</td>\n",
       "    </tr>\n",
       "  </tbody>\n",
       "</table>\n",
       "</div>"
      ],
      "text/plain": [
       "                           Name PClass   Age     Sex  Survived  SexCode\n",
       "0  Allen, Miss Elisabeth Walton    1st  29.0  female         1        1\n",
       "1   Allison, Miss Helen Loraine    1st   2.0  female         0        1"
      ]
     },
     "execution_count": 63,
     "metadata": {},
     "output_type": "execute_result"
    }
   ],
   "source": [
    "dataframe[dataframe[\"PClass\"] == '1st'].head(2)"
   ]
  },
  {
   "cell_type": "markdown",
   "id": "2a483085",
   "metadata": {
    "id": "lVeip0vqCr48"
   },
   "source": [
    "# 2.3.1 Задание"
   ]
  },
  {
   "cell_type": "code",
   "execution_count": 71,
   "id": "122df0c7",
   "metadata": {
    "colab": {
     "base_uri": "https://localhost:8080/",
     "height": 677
    },
    "id": "-kXuan-JCzFk",
    "outputId": "4fc84400-d3fb-4b3c-8116-2253e9d8efca"
   },
   "outputs": [
    {
     "name": "stdout",
     "output_type": "stream",
     "text": [
      "0     2\n",
      "1     4\n",
      "2     3\n",
      "3   -10\n",
      "dtype: int64\n",
      "0   -2\n",
      "1    1\n",
      "2    6\n",
      "3    1\n",
      "dtype: int64\n",
      "Distance: 12.449899597988733\n"
     ]
    }
   ],
   "source": [
    "a = pd.Series([2, 4, 3, -10])\n",
    "b = pd.Series([-2, 1, 6, 1])\n",
    "print(a, b, sep='\\n')\n",
    "print(\"Distance:\", sum((a - b)**2)**0.5)"
   ]
  },
  {
   "cell_type": "markdown",
   "id": "4188df65",
   "metadata": {
    "id": "lVeip0vqCr48"
   },
   "source": [
    "# 2.3.2 Задание"
   ]
  },
  {
   "cell_type": "code",
   "execution_count": 74,
   "id": "ec5fc551",
   "metadata": {},
   "outputs": [
    {
     "data": {
      "text/html": [
       "<div>\n",
       "<style scoped>\n",
       "    .dataframe tbody tr th:only-of-type {\n",
       "        vertical-align: middle;\n",
       "    }\n",
       "\n",
       "    .dataframe tbody tr th {\n",
       "        vertical-align: top;\n",
       "    }\n",
       "\n",
       "    .dataframe thead th {\n",
       "        text-align: right;\n",
       "    }\n",
       "</style>\n",
       "<table border=\"1\" class=\"dataframe\">\n",
       "  <thead>\n",
       "    <tr style=\"text-align: right;\">\n",
       "      <th></th>\n",
       "      <th>family</th>\n",
       "      <th>product-type</th>\n",
       "      <th>steel</th>\n",
       "      <th>carbon</th>\n",
       "      <th>hardness</th>\n",
       "      <th>temper_rolling</th>\n",
       "      <th>condition</th>\n",
       "      <th>formability</th>\n",
       "      <th>strength</th>\n",
       "      <th>non-ageing</th>\n",
       "      <th>...</th>\n",
       "      <th>s</th>\n",
       "      <th>p</th>\n",
       "      <th>shape</th>\n",
       "      <th>thick</th>\n",
       "      <th>width</th>\n",
       "      <th>len</th>\n",
       "      <th>oil</th>\n",
       "      <th>bore</th>\n",
       "      <th>packing</th>\n",
       "      <th>class</th>\n",
       "    </tr>\n",
       "  </thead>\n",
       "  <tbody>\n",
       "    <tr>\n",
       "      <th>0</th>\n",
       "      <td>?</td>\n",
       "      <td>C</td>\n",
       "      <td>A</td>\n",
       "      <td>8</td>\n",
       "      <td>0</td>\n",
       "      <td>?</td>\n",
       "      <td>S</td>\n",
       "      <td>?</td>\n",
       "      <td>0</td>\n",
       "      <td>?</td>\n",
       "      <td>...</td>\n",
       "      <td>?</td>\n",
       "      <td>?</td>\n",
       "      <td>COIL</td>\n",
       "      <td>0.700</td>\n",
       "      <td>610.0</td>\n",
       "      <td>0</td>\n",
       "      <td>?</td>\n",
       "      <td>0</td>\n",
       "      <td>?</td>\n",
       "      <td>3</td>\n",
       "    </tr>\n",
       "    <tr>\n",
       "      <th>1</th>\n",
       "      <td>?</td>\n",
       "      <td>C</td>\n",
       "      <td>R</td>\n",
       "      <td>0</td>\n",
       "      <td>0</td>\n",
       "      <td>?</td>\n",
       "      <td>S</td>\n",
       "      <td>2</td>\n",
       "      <td>0</td>\n",
       "      <td>?</td>\n",
       "      <td>...</td>\n",
       "      <td>?</td>\n",
       "      <td>?</td>\n",
       "      <td>COIL</td>\n",
       "      <td>3.200</td>\n",
       "      <td>610.0</td>\n",
       "      <td>0</td>\n",
       "      <td>?</td>\n",
       "      <td>0</td>\n",
       "      <td>?</td>\n",
       "      <td>3</td>\n",
       "    </tr>\n",
       "    <tr>\n",
       "      <th>2</th>\n",
       "      <td>?</td>\n",
       "      <td>C</td>\n",
       "      <td>R</td>\n",
       "      <td>0</td>\n",
       "      <td>0</td>\n",
       "      <td>?</td>\n",
       "      <td>S</td>\n",
       "      <td>2</td>\n",
       "      <td>0</td>\n",
       "      <td>?</td>\n",
       "      <td>...</td>\n",
       "      <td>?</td>\n",
       "      <td>?</td>\n",
       "      <td>SHEET</td>\n",
       "      <td>0.700</td>\n",
       "      <td>1300.0</td>\n",
       "      <td>762</td>\n",
       "      <td>?</td>\n",
       "      <td>0</td>\n",
       "      <td>?</td>\n",
       "      <td>3</td>\n",
       "    </tr>\n",
       "    <tr>\n",
       "      <th>3</th>\n",
       "      <td>?</td>\n",
       "      <td>C</td>\n",
       "      <td>A</td>\n",
       "      <td>0</td>\n",
       "      <td>60</td>\n",
       "      <td>T</td>\n",
       "      <td>?</td>\n",
       "      <td>?</td>\n",
       "      <td>0</td>\n",
       "      <td>?</td>\n",
       "      <td>...</td>\n",
       "      <td>?</td>\n",
       "      <td>?</td>\n",
       "      <td>COIL</td>\n",
       "      <td>2.801</td>\n",
       "      <td>385.1</td>\n",
       "      <td>0</td>\n",
       "      <td>?</td>\n",
       "      <td>0</td>\n",
       "      <td>?</td>\n",
       "      <td>3</td>\n",
       "    </tr>\n",
       "    <tr>\n",
       "      <th>4</th>\n",
       "      <td>?</td>\n",
       "      <td>C</td>\n",
       "      <td>A</td>\n",
       "      <td>0</td>\n",
       "      <td>60</td>\n",
       "      <td>T</td>\n",
       "      <td>?</td>\n",
       "      <td>?</td>\n",
       "      <td>0</td>\n",
       "      <td>?</td>\n",
       "      <td>...</td>\n",
       "      <td>?</td>\n",
       "      <td>?</td>\n",
       "      <td>SHEET</td>\n",
       "      <td>0.801</td>\n",
       "      <td>255.0</td>\n",
       "      <td>269</td>\n",
       "      <td>?</td>\n",
       "      <td>0</td>\n",
       "      <td>?</td>\n",
       "      <td>3</td>\n",
       "    </tr>\n",
       "  </tbody>\n",
       "</table>\n",
       "<p>5 rows × 39 columns</p>\n",
       "</div>"
      ],
      "text/plain": [
       "  family product-type steel  carbon  hardness temper_rolling condition  \\\n",
       "0      ?            C     A       8         0              ?         S   \n",
       "1      ?            C     R       0         0              ?         S   \n",
       "2      ?            C     R       0         0              ?         S   \n",
       "3      ?            C     A       0        60              T         ?   \n",
       "4      ?            C     A       0        60              T         ?   \n",
       "\n",
       "  formability  strength non-ageing  ...  s  p  shape  thick   width  len oil  \\\n",
       "0           ?         0          ?  ...  ?  ?   COIL  0.700   610.0    0   ?   \n",
       "1           2         0          ?  ...  ?  ?   COIL  3.200   610.0    0   ?   \n",
       "2           2         0          ?  ...  ?  ?  SHEET  0.700  1300.0  762   ?   \n",
       "3           ?         0          ?  ...  ?  ?   COIL  2.801   385.1    0   ?   \n",
       "4           ?         0          ?  ...  ?  ?  SHEET  0.801   255.0  269   ?   \n",
       "\n",
       "  bore packing class  \n",
       "0    0       ?     3  \n",
       "1    0       ?     3  \n",
       "2    0       ?     3  \n",
       "3    0       ?     3  \n",
       "4    0       ?     3  \n",
       "\n",
       "[5 rows x 39 columns]"
      ]
     },
     "execution_count": 74,
     "metadata": {},
     "output_type": "execute_result"
    }
   ],
   "source": [
    "url = \"https://raw.githubusercontent.com/akmand/datasets/main/anneal.csv\"\n",
    "df = pd.read_csv(url)"
   ]
  },
  {
   "cell_type": "markdown",
   "id": "12c9fce8",
   "metadata": {
    "id": "lVeip0vqCr48"
   },
   "source": [
    "# 2.3.3 Задание"
   ]
  },
  {
   "cell_type": "code",
   "execution_count": 78,
   "id": "db483673",
   "metadata": {
    "colab": {
     "base_uri": "https://localhost:8080/",
     "height": 677
    },
    "id": "-kXuan-JCzFk",
    "outputId": "4fc84400-d3fb-4b3c-8116-2253e9d8efca"
   },
   "outputs": [
    {
     "name": "stdout",
     "output_type": "stream",
     "text": [
      "  family product-type steel  carbon  hardness temper_rolling condition  \\\n",
      "0      ?            C     A       8         0              ?         S   \n",
      "1      ?            C     R       0         0              ?         S   \n",
      "\n",
      "  formability  strength non-ageing  ...  s  p shape thick  width len oil bore  \\\n",
      "0           ?         0          ?  ...  ?  ?  COIL   0.7  610.0   0   ?    0   \n",
      "1           2         0          ?  ...  ?  ?  COIL   3.2  610.0   0   ?    0   \n",
      "\n",
      "  packing class  \n",
      "0       ?     3  \n",
      "1       ?     3  \n",
      "\n",
      "[2 rows x 39 columns]\n",
      "    family product-type steel  carbon  hardness temper_rolling condition  \\\n",
      "895      ?            C     V       0         0              ?         S   \n",
      "896      ?            C     A       0        85              T         ?   \n",
      "897      ?            C     A       0        85              T         ?   \n",
      "\n",
      "    formability  strength non-ageing  ...  s  p  shape  thick  width  len oil  \\\n",
      "895           2         0          ?  ...  ?  ?  SHEET  1.599  150.0  762   ?   \n",
      "896           ?         0          ?  ...  ?  ?   COIL  0.400   20.0    0   ?   \n",
      "897           ?         0          ?  ...  ?  ?   COIL  4.000  610.0    0   ?   \n",
      "\n",
      "    bore packing class  \n",
      "895    0       ?     2  \n",
      "896    0       ?     U  \n",
      "897  500       ?     U  \n",
      "\n",
      "[3 rows x 39 columns]\n",
      "(898, 39)\n",
      "           carbon    hardness    strength       thick        width  \\\n",
      "count  898.000000  898.000000  898.000000  898.000000   898.000000   \n",
      "mean     3.634744   11.776169   30.668151    1.198549   780.653341   \n",
      "std     13.716845   24.750528  114.956243    0.871208   405.345688   \n",
      "min      0.000000    0.000000    0.000000    0.240000     0.000000   \n",
      "25%      0.000000    0.000000    0.000000    0.601000   609.900000   \n",
      "50%      0.000000    0.000000    0.000000    0.800000   610.000000   \n",
      "75%      0.000000    0.000000    0.000000    1.600000  1250.000000   \n",
      "max     70.000000   85.000000  700.000000    4.000000  1525.000000   \n",
      "\n",
      "               len        bore  \n",
      "count   898.000000  898.000000  \n",
      "mean   1263.094655   28.173719  \n",
      "std    1871.399107  124.560341  \n",
      "min       0.000000    0.000000  \n",
      "25%       0.000000    0.000000  \n",
      "50%     611.000000    0.000000  \n",
      "75%     762.000000    0.000000  \n",
      "max    4880.000000  600.000000  \n",
      "  family product-type steel  carbon  hardness temper_rolling condition  \\\n",
      "1      ?            C     R       0         0              ?         S   \n",
      "2      ?            C     R       0         0              ?         S   \n",
      "3      ?            C     A       0        60              T         ?   \n",
      "\n",
      "  formability  strength non-ageing  ...  s  p  shape  thick   width  len oil  \\\n",
      "1           2         0          ?  ...  ?  ?   COIL  3.200   610.0    0   ?   \n",
      "2           2         0          ?  ...  ?  ?  SHEET  0.700  1300.0  762   ?   \n",
      "3           ?         0          ?  ...  ?  ?   COIL  2.801   385.1    0   ?   \n",
      "\n",
      "  bore packing class  \n",
      "1    0       ?     3  \n",
      "2    0       ?     3  \n",
      "3    0       ?     3  \n",
      "\n",
      "[3 rows x 39 columns]\n"
     ]
    },
    {
     "data": {
      "text/html": [
       "<div>\n",
       "<style scoped>\n",
       "    .dataframe tbody tr th:only-of-type {\n",
       "        vertical-align: middle;\n",
       "    }\n",
       "\n",
       "    .dataframe tbody tr th {\n",
       "        vertical-align: top;\n",
       "    }\n",
       "\n",
       "    .dataframe thead th {\n",
       "        text-align: right;\n",
       "    }\n",
       "</style>\n",
       "<table border=\"1\" class=\"dataframe\">\n",
       "  <thead>\n",
       "    <tr style=\"text-align: right;\">\n",
       "      <th></th>\n",
       "      <th>family</th>\n",
       "      <th>product-type</th>\n",
       "      <th>steel</th>\n",
       "      <th>carbon</th>\n",
       "      <th>hardness</th>\n",
       "      <th>temper_rolling</th>\n",
       "      <th>condition</th>\n",
       "      <th>formability</th>\n",
       "      <th>strength</th>\n",
       "      <th>non-ageing</th>\n",
       "      <th>...</th>\n",
       "      <th>s</th>\n",
       "      <th>p</th>\n",
       "      <th>shape</th>\n",
       "      <th>thick</th>\n",
       "      <th>width</th>\n",
       "      <th>len</th>\n",
       "      <th>oil</th>\n",
       "      <th>bore</th>\n",
       "      <th>packing</th>\n",
       "      <th>class</th>\n",
       "    </tr>\n",
       "  </thead>\n",
       "  <tbody>\n",
       "    <tr>\n",
       "      <th>0</th>\n",
       "      <td>?</td>\n",
       "      <td>C</td>\n",
       "      <td>A</td>\n",
       "      <td>8</td>\n",
       "      <td>0</td>\n",
       "      <td>?</td>\n",
       "      <td>S</td>\n",
       "      <td>?</td>\n",
       "      <td>0</td>\n",
       "      <td>?</td>\n",
       "      <td>...</td>\n",
       "      <td>?</td>\n",
       "      <td>?</td>\n",
       "      <td>COIL</td>\n",
       "      <td>0.7</td>\n",
       "      <td>610.0</td>\n",
       "      <td>0</td>\n",
       "      <td>?</td>\n",
       "      <td>0</td>\n",
       "      <td>?</td>\n",
       "      <td>3</td>\n",
       "    </tr>\n",
       "    <tr>\n",
       "      <th>1</th>\n",
       "      <td>?</td>\n",
       "      <td>C</td>\n",
       "      <td>R</td>\n",
       "      <td>0</td>\n",
       "      <td>0</td>\n",
       "      <td>?</td>\n",
       "      <td>S</td>\n",
       "      <td>2</td>\n",
       "      <td>0</td>\n",
       "      <td>?</td>\n",
       "      <td>...</td>\n",
       "      <td>?</td>\n",
       "      <td>?</td>\n",
       "      <td>COIL</td>\n",
       "      <td>3.2</td>\n",
       "      <td>610.0</td>\n",
       "      <td>0</td>\n",
       "      <td>?</td>\n",
       "      <td>0</td>\n",
       "      <td>?</td>\n",
       "      <td>3</td>\n",
       "    </tr>\n",
       "  </tbody>\n",
       "</table>\n",
       "<p>2 rows × 39 columns</p>\n",
       "</div>"
      ],
      "text/plain": [
       "  family product-type steel  carbon  hardness temper_rolling condition  \\\n",
       "0      ?            C     A       8         0              ?         S   \n",
       "1      ?            C     R       0         0              ?         S   \n",
       "\n",
       "  formability  strength non-ageing  ...  s  p shape thick  width len oil bore  \\\n",
       "0           ?         0          ?  ...  ?  ?  COIL   0.7  610.0   0   ?    0   \n",
       "1           2         0          ?  ...  ?  ?  COIL   3.2  610.0   0   ?    0   \n",
       "\n",
       "  packing class  \n",
       "0       ?     3  \n",
       "1       ?     3  \n",
       "\n",
       "[2 rows x 39 columns]"
      ]
     },
     "execution_count": 78,
     "metadata": {},
     "output_type": "execute_result"
    }
   ],
   "source": [
    "print(df.head(2))\n",
    "print(df.tail(3))\n",
    "print(df.shape)\n",
    "print(df.describe())\n",
    "print(df.iloc[1:4])\n",
    "df[df[\"shape\"] == 'COIL'].head(2)"
   ]
  },
  {
   "cell_type": "markdown",
   "id": "a13b3aac",
   "metadata": {},
   "source": [
    "# 3.2.1 Пример"
   ]
  },
  {
   "cell_type": "code",
   "execution_count": 92,
   "id": "4bdfe517",
   "metadata": {},
   "outputs": [
    {
     "data": {
      "text/plain": [
       "array([[0.        ],\n",
       "       [0.28571429],\n",
       "       [0.35714286],\n",
       "       [0.42857143],\n",
       "       [1.        ]])"
      ]
     },
     "execution_count": 92,
     "metadata": {},
     "output_type": "execute_result"
    }
   ],
   "source": [
    "feature = np.array([[-500.5], [-100.1], [0], [100.1], [900.9]])\n",
    "\n",
    "minmax_scale = preprocessing.MinMaxScaler(feature_range = (0, 1))\n",
    "\n",
    "scaled_feature = minmax_scale.fit_transform(feature)\n",
    "\n",
    "scaled_feature"
   ]
  },
  {
   "cell_type": "markdown",
   "id": "405492df",
   "metadata": {},
   "source": [
    "# 3.2.2 Пример"
   ]
  },
  {
   "cell_type": "code",
   "execution_count": 95,
   "id": "67603037",
   "metadata": {},
   "outputs": [
    {
     "name": "stdout",
     "output_type": "stream",
     "text": [
      "[[-0.76058269]\n",
      " [-0.54177196]\n",
      " [-0.35009716]\n",
      " [-0.32271504]\n",
      " [ 1.97516685]]\n",
      "Среднее; 0\n",
      "Стандартное отклонение: 1.0\n"
     ]
    }
   ],
   "source": [
    "x = np.array([[-1000.1], [-200.2], [500.5], [600.6], [9000.9]])\n",
    "scaler = preprocessing.StandardScaler()\n",
    "standardized = scaler.fit_transform(x)\n",
    "print(standardized)\n",
    "\n",
    "print(\"Среднее;\", round(standardized.mean()))\n",
    "print(\"Стандартное отклонение:\", standardized.std())"
   ]
  },
  {
   "cell_type": "markdown",
   "id": "ee2343a7",
   "metadata": {},
   "source": [
    "# 3.2.3 Пример"
   ]
  },
  {
   "cell_type": "code",
   "execution_count": null,
   "id": "cf6f7bbd",
   "metadata": {},
   "outputs": [],
   "source": [
    "scaler = preprocessing.MinMaxScaler()\n",
    "dfTest = pd.DataFrame({'A':[14.00,90.20,90.95,96.27,91.21],\n",
    "                       'B':[103.02,107.26,110.35,114.23,114.68],\n",
    "                       'C':['big','small','big','small','small']})\n",
    "dfTest[['A', 'B']] = scaler.fit_transform(dfTest[['A', 'B']])\n",
    "dfTest"
   ]
  }
 ],
 "metadata": {
  "colab": {
   "provenance": []
  },
  "kernelspec": {
   "display_name": "Python 3 (ipykernel)",
   "language": "python",
   "name": "python3"
  },
  "language_info": {
   "codemirror_mode": {
    "name": "ipython",
    "version": 3
   },
   "file_extension": ".py",
   "mimetype": "text/x-python",
   "name": "python",
   "nbconvert_exporter": "python",
   "pygments_lexer": "ipython3",
   "version": "3.11.1"
  }
 },
 "nbformat": 4,
 "nbformat_minor": 5
}
